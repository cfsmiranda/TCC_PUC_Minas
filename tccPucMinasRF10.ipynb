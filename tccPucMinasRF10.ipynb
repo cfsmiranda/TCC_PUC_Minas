{
 "cells": [
  {
   "cell_type": "markdown",
   "metadata": {},
   "source": [
    "### PUC Minas - Pontifícia Universidade Católica de Minas Gerais\n",
    "**Pós-Graduação em Ciência de Dados e Big Data**<br>\n",
    "**TCC - Trabalho de Conclusão de Curso**\n",
    "\n",
    "# Avaliação da efetividade da gestão de riscos na importação\n",
    "\n",
    "**Aluno: Carlos Frederico Schwochow de Miranda**"
   ]
  },
  {
   "cell_type": "code",
   "execution_count": 1,
   "metadata": {
    "scrolled": true
   },
   "outputs": [],
   "source": [
    "# Importando as bibliotecas e setando variáveis de ambiente\n",
    "\n",
    "# !pip install xgboost\n",
    "\n",
    "import pandas as pd\n",
    "import numpy as np\n",
    "import matplotlib.pyplot as plt\n",
    "import seaborn as sns\n",
    "import statsmodels.api as sm\n",
    "import xgboost as xgb\n",
    "\n",
    "from sklearn import datasets\n",
    "from sklearn.preprocessing import LabelEncoder\n",
    "from sklearn.feature_selection import RFE\n",
    "from sklearn.linear_model import LogisticRegression\n",
    "from sklearn.feature_selection import SelectFromModel\n",
    "from sklearn.ensemble import RandomForestClassifier\n",
    "from sklearn.model_selection import train_test_split\n",
    "from sklearn.metrics import accuracy_score\n",
    "from sklearn.model_selection import GridSearchCV\n",
    "from sklearn.model_selection import cross_val_score\n",
    "from sklearn.model_selection import cross_validate\n",
    "from sklearn.metrics import classification_report\n",
    "from sklearn.metrics import confusion_matrix\n",
    "from sklearn.metrics import ConfusionMatrixDisplay\n",
    "# from sklearn.svm import SVC\n",
    "from sklearn.ensemble import RandomForestClassifier\n",
    "from xgboost import XGBClassifier\n",
    "\n",
    "%matplotlib inline\n",
    "pd.options.display.max_rows = 200"
   ]
  },
  {
   "cell_type": "code",
   "execution_count": 2,
   "metadata": {
    "scrolled": false
   },
   "outputs": [
    {
     "data": {
      "text/html": [
       "<div>\n",
       "<style scoped>\n",
       "    .dataframe tbody tr th:only-of-type {\n",
       "        vertical-align: middle;\n",
       "    }\n",
       "\n",
       "    .dataframe tbody tr th {\n",
       "        vertical-align: top;\n",
       "    }\n",
       "\n",
       "    .dataframe thead th {\n",
       "        text-align: right;\n",
       "    }\n",
       "</style>\n",
       "<table border=\"1\" class=\"dataframe\">\n",
       "  <thead>\n",
       "    <tr style=\"text-align: right;\">\n",
       "      <th></th>\n",
       "      <th>nroDI</th>\n",
       "      <th>importador</th>\n",
       "      <th>adquirente</th>\n",
       "      <th>impPropria</th>\n",
       "      <th>tipoDI</th>\n",
       "      <th>rfDespacho</th>\n",
       "      <th>ufDespacho</th>\n",
       "      <th>paisProcedencia</th>\n",
       "      <th>viaTransporte</th>\n",
       "      <th>retificacao</th>\n",
       "      <th>qtdAdicoes</th>\n",
       "      <th>qtdItens</th>\n",
       "      <th>valorCIF</th>\n",
       "      <th>valorTributos</th>\n",
       "    </tr>\n",
       "  </thead>\n",
       "  <tbody>\n",
       "    <tr>\n",
       "      <th>0</th>\n",
       "      <td>2124290818</td>\n",
       "      <td>3,35E+13</td>\n",
       "      <td>3,35E+13</td>\n",
       "      <td>True</td>\n",
       "      <td>CONSUMO</td>\n",
       "      <td>8ª RF</td>\n",
       "      <td>SP</td>\n",
       "      <td>ITALIA</td>\n",
       "      <td>AEREA</td>\n",
       "      <td>0</td>\n",
       "      <td>1</td>\n",
       "      <td>1</td>\n",
       "      <td>55.93</td>\n",
       "      <td>25.23</td>\n",
       "    </tr>\n",
       "    <tr>\n",
       "      <th>1</th>\n",
       "      <td>2123103453</td>\n",
       "      <td>2,38E+13</td>\n",
       "      <td>2,38E+13</td>\n",
       "      <td>True</td>\n",
       "      <td>CONSUMO</td>\n",
       "      <td>7ª RF</td>\n",
       "      <td>RJ</td>\n",
       "      <td>PAIS_OUTROS</td>\n",
       "      <td>ENTRADA/SAIDA FICTA</td>\n",
       "      <td>0</td>\n",
       "      <td>1</td>\n",
       "      <td>1</td>\n",
       "      <td>67.39</td>\n",
       "      <td>7.91</td>\n",
       "    </tr>\n",
       "    <tr>\n",
       "      <th>2</th>\n",
       "      <td>2100959653</td>\n",
       "      <td>4,30E+12</td>\n",
       "      <td>4,30E+12</td>\n",
       "      <td>True</td>\n",
       "      <td>CONSUMO</td>\n",
       "      <td>8ª RF</td>\n",
       "      <td>SP</td>\n",
       "      <td>ESPANHA</td>\n",
       "      <td>AEREA</td>\n",
       "      <td>0</td>\n",
       "      <td>1</td>\n",
       "      <td>1</td>\n",
       "      <td>158.51</td>\n",
       "      <td>21.78</td>\n",
       "    </tr>\n",
       "    <tr>\n",
       "      <th>3</th>\n",
       "      <td>2103371983</td>\n",
       "      <td>5,93E+13</td>\n",
       "      <td>5,93E+13</td>\n",
       "      <td>True</td>\n",
       "      <td>CONSUMO</td>\n",
       "      <td>8ª RF</td>\n",
       "      <td>SP</td>\n",
       "      <td>PAIS_OUTROS</td>\n",
       "      <td>AEREA</td>\n",
       "      <td>0</td>\n",
       "      <td>1</td>\n",
       "      <td>3</td>\n",
       "      <td>275.47</td>\n",
       "      <td>32.36</td>\n",
       "    </tr>\n",
       "    <tr>\n",
       "      <th>4</th>\n",
       "      <td>2124290826</td>\n",
       "      <td>3,35E+13</td>\n",
       "      <td>3,35E+13</td>\n",
       "      <td>True</td>\n",
       "      <td>CONSUMO</td>\n",
       "      <td>8ª RF</td>\n",
       "      <td>SP</td>\n",
       "      <td>ITALIA</td>\n",
       "      <td>AEREA</td>\n",
       "      <td>1</td>\n",
       "      <td>1</td>\n",
       "      <td>1</td>\n",
       "      <td>287.69</td>\n",
       "      <td>129.88</td>\n",
       "    </tr>\n",
       "  </tbody>\n",
       "</table>\n",
       "</div>"
      ],
      "text/plain": [
       "        nroDI importador adquirente  impPropria   tipoDI rfDespacho  \\\n",
       "0  2124290818   3,35E+13   3,35E+13        True  CONSUMO      8ª RF   \n",
       "1  2123103453   2,38E+13   2,38E+13        True  CONSUMO      7ª RF   \n",
       "2  2100959653   4,30E+12   4,30E+12        True  CONSUMO      8ª RF   \n",
       "3  2103371983   5,93E+13   5,93E+13        True  CONSUMO      8ª RF   \n",
       "4  2124290826   3,35E+13   3,35E+13        True  CONSUMO      8ª RF   \n",
       "\n",
       "  ufDespacho paisProcedencia        viaTransporte  retificacao  qtdAdicoes  \\\n",
       "0         SP          ITALIA                AEREA            0           1   \n",
       "1         RJ     PAIS_OUTROS  ENTRADA/SAIDA FICTA            0           1   \n",
       "2         SP         ESPANHA                AEREA            0           1   \n",
       "3         SP     PAIS_OUTROS                AEREA            0           1   \n",
       "4         SP          ITALIA                AEREA            1           1   \n",
       "\n",
       "   qtdItens  valorCIF  valorTributos  \n",
       "0         1     55.93          25.23  \n",
       "1         1     67.39           7.91  \n",
       "2         1    158.51          21.78  \n",
       "3         3    275.47          32.36  \n",
       "4         1    287.69         129.88  "
      ]
     },
     "execution_count": 2,
     "metadata": {},
     "output_type": "execute_result"
    }
   ],
   "source": [
    "# Carregando o dataset\n",
    "file = 'dataset.csv'\n",
    "df_diSelecionadas = pd.read_csv(file, encoding = 'ISO-8859-1', sep = ';')\n",
    "df_diSelecionadas.head()"
   ]
  },
  {
   "cell_type": "code",
   "execution_count": 3,
   "metadata": {},
   "outputs": [
    {
     "data": {
      "text/plain": [
       "nroDI                int64\n",
       "importador          object\n",
       "adquirente          object\n",
       "impPropria            bool\n",
       "tipoDI              object\n",
       "rfDespacho          object\n",
       "ufDespacho          object\n",
       "paisProcedencia     object\n",
       "viaTransporte       object\n",
       "retificacao          int64\n",
       "qtdAdicoes           int64\n",
       "qtdItens             int64\n",
       "valorCIF           float64\n",
       "valorTributos      float64\n",
       "dtype: object"
      ]
     },
     "execution_count": 3,
     "metadata": {},
     "output_type": "execute_result"
    }
   ],
   "source": [
    "df_diSelecionadas.dtypes"
   ]
  },
  {
   "cell_type": "code",
   "execution_count": 4,
   "metadata": {
    "scrolled": true
   },
   "outputs": [
    {
     "data": {
      "text/html": [
       "<div>\n",
       "<style scoped>\n",
       "    .dataframe tbody tr th:only-of-type {\n",
       "        vertical-align: middle;\n",
       "    }\n",
       "\n",
       "    .dataframe tbody tr th {\n",
       "        vertical-align: top;\n",
       "    }\n",
       "\n",
       "    .dataframe thead th {\n",
       "        text-align: right;\n",
       "    }\n",
       "</style>\n",
       "<table border=\"1\" class=\"dataframe\">\n",
       "  <thead>\n",
       "    <tr style=\"text-align: right;\">\n",
       "      <th></th>\n",
       "      <th>impPropria</th>\n",
       "      <th>tipoDI</th>\n",
       "      <th>rfDespacho</th>\n",
       "      <th>ufDespacho</th>\n",
       "      <th>paisProcedencia</th>\n",
       "      <th>viaTransporte</th>\n",
       "      <th>retificacao</th>\n",
       "      <th>qtdAdicoes</th>\n",
       "      <th>qtdItens</th>\n",
       "      <th>valorCIF</th>\n",
       "      <th>valorTributos</th>\n",
       "    </tr>\n",
       "  </thead>\n",
       "  <tbody>\n",
       "    <tr>\n",
       "      <th>0</th>\n",
       "      <td>True</td>\n",
       "      <td>CONSUMO</td>\n",
       "      <td>8ª RF</td>\n",
       "      <td>SP</td>\n",
       "      <td>ITALIA</td>\n",
       "      <td>AEREA</td>\n",
       "      <td>0</td>\n",
       "      <td>1</td>\n",
       "      <td>1</td>\n",
       "      <td>55.93</td>\n",
       "      <td>25.23</td>\n",
       "    </tr>\n",
       "    <tr>\n",
       "      <th>1</th>\n",
       "      <td>True</td>\n",
       "      <td>CONSUMO</td>\n",
       "      <td>7ª RF</td>\n",
       "      <td>RJ</td>\n",
       "      <td>PAIS_OUTROS</td>\n",
       "      <td>ENTRADA/SAIDA FICTA</td>\n",
       "      <td>0</td>\n",
       "      <td>1</td>\n",
       "      <td>1</td>\n",
       "      <td>67.39</td>\n",
       "      <td>7.91</td>\n",
       "    </tr>\n",
       "    <tr>\n",
       "      <th>2</th>\n",
       "      <td>True</td>\n",
       "      <td>CONSUMO</td>\n",
       "      <td>8ª RF</td>\n",
       "      <td>SP</td>\n",
       "      <td>ESPANHA</td>\n",
       "      <td>AEREA</td>\n",
       "      <td>0</td>\n",
       "      <td>1</td>\n",
       "      <td>1</td>\n",
       "      <td>158.51</td>\n",
       "      <td>21.78</td>\n",
       "    </tr>\n",
       "    <tr>\n",
       "      <th>3</th>\n",
       "      <td>True</td>\n",
       "      <td>CONSUMO</td>\n",
       "      <td>8ª RF</td>\n",
       "      <td>SP</td>\n",
       "      <td>PAIS_OUTROS</td>\n",
       "      <td>AEREA</td>\n",
       "      <td>0</td>\n",
       "      <td>1</td>\n",
       "      <td>3</td>\n",
       "      <td>275.47</td>\n",
       "      <td>32.36</td>\n",
       "    </tr>\n",
       "    <tr>\n",
       "      <th>4</th>\n",
       "      <td>True</td>\n",
       "      <td>CONSUMO</td>\n",
       "      <td>8ª RF</td>\n",
       "      <td>SP</td>\n",
       "      <td>ITALIA</td>\n",
       "      <td>AEREA</td>\n",
       "      <td>1</td>\n",
       "      <td>1</td>\n",
       "      <td>1</td>\n",
       "      <td>287.69</td>\n",
       "      <td>129.88</td>\n",
       "    </tr>\n",
       "  </tbody>\n",
       "</table>\n",
       "</div>"
      ],
      "text/plain": [
       "   impPropria   tipoDI rfDespacho ufDespacho paisProcedencia  \\\n",
       "0        True  CONSUMO      8ª RF         SP          ITALIA   \n",
       "1        True  CONSUMO      7ª RF         RJ     PAIS_OUTROS   \n",
       "2        True  CONSUMO      8ª RF         SP         ESPANHA   \n",
       "3        True  CONSUMO      8ª RF         SP     PAIS_OUTROS   \n",
       "4        True  CONSUMO      8ª RF         SP          ITALIA   \n",
       "\n",
       "         viaTransporte  retificacao  qtdAdicoes  qtdItens  valorCIF  \\\n",
       "0                AEREA            0           1         1     55.93   \n",
       "1  ENTRADA/SAIDA FICTA            0           1         1     67.39   \n",
       "2                AEREA            0           1         1    158.51   \n",
       "3                AEREA            0           1         3    275.47   \n",
       "4                AEREA            1           1         1    287.69   \n",
       "\n",
       "   valorTributos  \n",
       "0          25.23  \n",
       "1           7.91  \n",
       "2          21.78  \n",
       "3          32.36  \n",
       "4         129.88  "
      ]
     },
     "execution_count": 4,
     "metadata": {},
     "output_type": "execute_result"
    }
   ],
   "source": [
    "# Removendo as colunas nroDI, importador e adquirente, utilizadas somente para o enriquecimento dos dados\n",
    "\n",
    "# O enriquecimento dos dados foi realizado através da ferramenta Contágil, com o uso da linguagem SQL em diversas\n",
    "# consultas às bases de dados da RFB.\n",
    "\n",
    "df_diSelecionadas.drop(['nroDI'], axis = 1, inplace = True)\n",
    "df_diSelecionadas.drop(['importador'], axis = 1, inplace = True)\n",
    "df_diSelecionadas.drop(['adquirente'], axis = 1, inplace = True)\n",
    "df_diSelecionadas.head()"
   ]
  },
  {
   "cell_type": "code",
   "execution_count": 5,
   "metadata": {},
   "outputs": [
    {
     "data": {
      "text/plain": [
       "(14338, 11)"
      ]
     },
     "execution_count": 5,
     "metadata": {},
     "output_type": "execute_result"
    }
   ],
   "source": [
    "df_diSelecionadas.shape"
   ]
  },
  {
   "cell_type": "code",
   "execution_count": 6,
   "metadata": {},
   "outputs": [],
   "source": [
    "indexNames = df_diSelecionadas[(df_diSelecionadas['rfDespacho'] != '10ª RF')].index"
   ]
  },
  {
   "cell_type": "code",
   "execution_count": 7,
   "metadata": {},
   "outputs": [
    {
     "name": "stdout",
     "output_type": "stream",
     "text": [
      "Int64Index([    0,     1,     2,     3,     4,     5,     6,     7,     8,\n",
      "                9,\n",
      "            ...\n",
      "            14326, 14329, 14330, 14331, 14332, 14333, 14334, 14335, 14336,\n",
      "            14337],\n",
      "           dtype='int64', length=12679)\n"
     ]
    }
   ],
   "source": [
    "print(indexNames)"
   ]
  },
  {
   "cell_type": "code",
   "execution_count": 8,
   "metadata": {},
   "outputs": [
    {
     "data": {
      "text/plain": [
       "(1659, 11)"
      ]
     },
     "execution_count": 8,
     "metadata": {},
     "output_type": "execute_result"
    }
   ],
   "source": [
    "df_diSelecionadas.drop(indexNames, inplace=True)\n",
    "df_diSelecionadas.shape"
   ]
  },
  {
   "cell_type": "code",
   "execution_count": 9,
   "metadata": {
    "scrolled": true
   },
   "outputs": [
    {
     "data": {
      "text/plain": [
       "impPropria            bool\n",
       "tipoDI              object\n",
       "rfDespacho          object\n",
       "ufDespacho          object\n",
       "paisProcedencia     object\n",
       "viaTransporte       object\n",
       "retificacao          int64\n",
       "qtdAdicoes           int64\n",
       "qtdItens             int64\n",
       "valorCIF           float64\n",
       "valorTributos      float64\n",
       "dtype: object"
      ]
     },
     "execution_count": 9,
     "metadata": {},
     "output_type": "execute_result"
    }
   ],
   "source": [
    "# Verificando os tipos das variáveis do dataframe\n",
    "df_diSelecionadas.dtypes"
   ]
  },
  {
   "cell_type": "code",
   "execution_count": 10,
   "metadata": {
    "scrolled": true
   },
   "outputs": [
    {
     "data": {
      "text/plain": [
       "impPropria         0\n",
       "tipoDI             0\n",
       "rfDespacho         0\n",
       "ufDespacho         0\n",
       "paisProcedencia    0\n",
       "viaTransporte      0\n",
       "retificacao        0\n",
       "qtdAdicoes         0\n",
       "qtdItens           0\n",
       "valorCIF           0\n",
       "valorTributos      0\n",
       "dtype: int64"
      ]
     },
     "execution_count": 10,
     "metadata": {},
     "output_type": "execute_result"
    }
   ],
   "source": [
    "# Verificando missing values\n",
    "df_diSelecionadas.isnull().sum()"
   ]
  },
  {
   "cell_type": "markdown",
   "metadata": {},
   "source": [
    "## Tratamento das variáveis categóricas"
   ]
  },
  {
   "cell_type": "code",
   "execution_count": 11,
   "metadata": {},
   "outputs": [
    {
     "data": {
      "text/plain": [
       "array([ True, False])"
      ]
     },
     "execution_count": 11,
     "metadata": {},
     "output_type": "execute_result"
    }
   ],
   "source": [
    "# Verificando os valores existentes para a coluna impPropria (cardinalidade)\n",
    "df_diSelecionadas['impPropria'].unique()"
   ]
  },
  {
   "cell_type": "code",
   "execution_count": 12,
   "metadata": {},
   "outputs": [
    {
     "data": {
      "text/plain": [
       "True     1615\n",
       "False      44\n",
       "Name: impPropria, dtype: int64"
      ]
     },
     "execution_count": 12,
     "metadata": {},
     "output_type": "execute_result"
    }
   ],
   "source": [
    "# Verificando o número de registros para cada valor da coluna impPropria\n",
    "df_diSelecionadas['impPropria'].value_counts()"
   ]
  },
  {
   "cell_type": "code",
   "execution_count": 13,
   "metadata": {},
   "outputs": [
    {
     "data": {
      "text/html": [
       "<div>\n",
       "<style scoped>\n",
       "    .dataframe tbody tr th:only-of-type {\n",
       "        vertical-align: middle;\n",
       "    }\n",
       "\n",
       "    .dataframe tbody tr th {\n",
       "        vertical-align: top;\n",
       "    }\n",
       "\n",
       "    .dataframe thead th {\n",
       "        text-align: right;\n",
       "    }\n",
       "</style>\n",
       "<table border=\"1\" class=\"dataframe\">\n",
       "  <thead>\n",
       "    <tr style=\"text-align: right;\">\n",
       "      <th></th>\n",
       "      <th>impPropria</th>\n",
       "      <th>tipoDI</th>\n",
       "      <th>rfDespacho</th>\n",
       "      <th>ufDespacho</th>\n",
       "      <th>paisProcedencia</th>\n",
       "      <th>viaTransporte</th>\n",
       "      <th>retificacao</th>\n",
       "      <th>qtdAdicoes</th>\n",
       "      <th>qtdItens</th>\n",
       "      <th>valorCIF</th>\n",
       "      <th>valorTributos</th>\n",
       "      <th>le_impPropria</th>\n",
       "    </tr>\n",
       "  </thead>\n",
       "  <tbody>\n",
       "    <tr>\n",
       "      <th>10</th>\n",
       "      <td>True</td>\n",
       "      <td>CONSUMO</td>\n",
       "      <td>10ª RF</td>\n",
       "      <td>RS</td>\n",
       "      <td>PAIS_OUTROS</td>\n",
       "      <td>AEREA</td>\n",
       "      <td>0</td>\n",
       "      <td>1</td>\n",
       "      <td>1</td>\n",
       "      <td>795.59</td>\n",
       "      <td>173.02</td>\n",
       "      <td>1</td>\n",
       "    </tr>\n",
       "    <tr>\n",
       "      <th>35</th>\n",
       "      <td>True</td>\n",
       "      <td>ADMISSAO EM LOJA FRANCA</td>\n",
       "      <td>10ª RF</td>\n",
       "      <td>RS</td>\n",
       "      <td>PAIS_OUTROS</td>\n",
       "      <td>RODOVIARIA</td>\n",
       "      <td>0</td>\n",
       "      <td>1</td>\n",
       "      <td>1</td>\n",
       "      <td>1348.08</td>\n",
       "      <td>0.00</td>\n",
       "      <td>1</td>\n",
       "    </tr>\n",
       "    <tr>\n",
       "      <th>72</th>\n",
       "      <td>True</td>\n",
       "      <td>CONSUMO</td>\n",
       "      <td>10ª RF</td>\n",
       "      <td>RS</td>\n",
       "      <td>ITALIA</td>\n",
       "      <td>AEREA</td>\n",
       "      <td>1</td>\n",
       "      <td>2</td>\n",
       "      <td>2</td>\n",
       "      <td>1946.70</td>\n",
       "      <td>809.85</td>\n",
       "      <td>1</td>\n",
       "    </tr>\n",
       "    <tr>\n",
       "      <th>81</th>\n",
       "      <td>True</td>\n",
       "      <td>CONSUMO</td>\n",
       "      <td>10ª RF</td>\n",
       "      <td>RS</td>\n",
       "      <td>INDIA</td>\n",
       "      <td>AEREA</td>\n",
       "      <td>1</td>\n",
       "      <td>4</td>\n",
       "      <td>4</td>\n",
       "      <td>2192.18</td>\n",
       "      <td>859.10</td>\n",
       "      <td>1</td>\n",
       "    </tr>\n",
       "    <tr>\n",
       "      <th>95</th>\n",
       "      <td>True</td>\n",
       "      <td>NACIONALIZACAO DE ENTREPOSTO ADUANEIRO</td>\n",
       "      <td>10ª RF</td>\n",
       "      <td>RS</td>\n",
       "      <td>CHINA, REPUBLICA POPULAR</td>\n",
       "      <td>MARITIMA</td>\n",
       "      <td>1</td>\n",
       "      <td>1</td>\n",
       "      <td>1</td>\n",
       "      <td>2556.43</td>\n",
       "      <td>1154.21</td>\n",
       "      <td>1</td>\n",
       "    </tr>\n",
       "  </tbody>\n",
       "</table>\n",
       "</div>"
      ],
      "text/plain": [
       "    impPropria                                  tipoDI rfDespacho ufDespacho  \\\n",
       "10        True                                 CONSUMO     10ª RF         RS   \n",
       "35        True                 ADMISSAO EM LOJA FRANCA     10ª RF         RS   \n",
       "72        True                                 CONSUMO     10ª RF         RS   \n",
       "81        True                                 CONSUMO     10ª RF         RS   \n",
       "95        True  NACIONALIZACAO DE ENTREPOSTO ADUANEIRO     10ª RF         RS   \n",
       "\n",
       "             paisProcedencia viaTransporte  retificacao  qtdAdicoes  qtdItens  \\\n",
       "10               PAIS_OUTROS         AEREA            0           1         1   \n",
       "35               PAIS_OUTROS    RODOVIARIA            0           1         1   \n",
       "72                    ITALIA         AEREA            1           2         2   \n",
       "81                     INDIA         AEREA            1           4         4   \n",
       "95  CHINA, REPUBLICA POPULAR      MARITIMA            1           1         1   \n",
       "\n",
       "    valorCIF  valorTributos  le_impPropria  \n",
       "10    795.59         173.02              1  \n",
       "35   1348.08           0.00              1  \n",
       "72   1946.70         809.85              1  \n",
       "81   2192.18         859.10              1  \n",
       "95   2556.43        1154.21              1  "
      ]
     },
     "execution_count": 13,
     "metadata": {},
     "output_type": "execute_result"
    }
   ],
   "source": [
    "# Criando uma nova coluna [le_impPropria], com base na variável impPropria (Label Encoder)\n",
    "le = LabelEncoder()\n",
    "df_diSelecionadas['le_impPropria'] = le.fit_transform(df_diSelecionadas['impPropria'])\n",
    "df_diSelecionadas.head()"
   ]
  },
  {
   "cell_type": "code",
   "execution_count": 14,
   "metadata": {},
   "outputs": [
    {
     "data": {
      "text/plain": [
       "1    1615\n",
       "0      44\n",
       "Name: le_impPropria, dtype: int64"
      ]
     },
     "execution_count": 14,
     "metadata": {},
     "output_type": "execute_result"
    }
   ],
   "source": [
    "# Conferindo a variável label encoder criada\n",
    "df_diSelecionadas['le_impPropria'].value_counts()"
   ]
  },
  {
   "cell_type": "code",
   "execution_count": 15,
   "metadata": {
    "scrolled": true
   },
   "outputs": [
    {
     "data": {
      "text/plain": [
       "array(['CONSUMO', 'ADMISSAO EM LOJA FRANCA',\n",
       "       'NACIONALIZACAO DE ENTREPOSTO ADUANEIRO', 'ADMISSAO TEMPORARIA',\n",
       "       'NACIONALIZACAO DE ADMISSAO TEMPORARIA',\n",
       "       'ADMISSAO EM ENTREPOSTO ADUANEIRO',\n",
       "       'CONSUMO E ADMISSAO TEMPORARIA'], dtype=object)"
      ]
     },
     "execution_count": 15,
     "metadata": {},
     "output_type": "execute_result"
    }
   ],
   "source": [
    "# Verificando os valores existentes para a coluna tipoDI (cardinalidade)\n",
    "df_diSelecionadas['tipoDI'].unique()"
   ]
  },
  {
   "cell_type": "code",
   "execution_count": 16,
   "metadata": {
    "scrolled": true
   },
   "outputs": [
    {
     "data": {
      "text/plain": [
       "CONSUMO                                   1526\n",
       "ADMISSAO TEMPORARIA                         34\n",
       "ADMISSAO EM LOJA FRANCA                     32\n",
       "NACIONALIZACAO DE ENTREPOSTO ADUANEIRO      27\n",
       "ADMISSAO EM ENTREPOSTO ADUANEIRO            20\n",
       "NACIONALIZACAO DE ADMISSAO TEMPORARIA       15\n",
       "CONSUMO E ADMISSAO TEMPORARIA                5\n",
       "Name: tipoDI, dtype: int64"
      ]
     },
     "execution_count": 16,
     "metadata": {},
     "output_type": "execute_result"
    }
   ],
   "source": [
    "# Verificando o número de registros para cada valor da coluna tipoDI\n",
    "df_diSelecionadas['tipoDI'].value_counts()"
   ]
  },
  {
   "cell_type": "code",
   "execution_count": 17,
   "metadata": {
    "scrolled": true
   },
   "outputs": [
    {
     "data": {
      "text/plain": [
       "CONSUMO           1526\n",
       "REGIMES_OUTROS     133\n",
       "Name: tipoDI, dtype: int64"
      ]
     },
     "execution_count": 17,
     "metadata": {},
     "output_type": "execute_result"
    }
   ],
   "source": [
    "# Agrupando os valores da coluna tipoDI\n",
    "df_diSelecionadas['tipoDI'] = df_diSelecionadas['tipoDI'].replace({'NACIONALIZACAO DE ENTREPOSTO ADUANEIRO':'REGIMES_OUTROS',\n",
    "                                                                   'ADMISSAO EM ENTREPOSTO ADUANEIRO':'REGIMES_OUTROS',\n",
    "                                                                   'ADMISSAO TEMPORARIA':'REGIMES_OUTROS',\n",
    "                                                                   'NACIONALIZACAO DE ADMISSAO TEMPORARIA':'REGIMES_OUTROS',\n",
    "                                                                   'ADMISSAO EM LOJA FRANCA':'REGIMES_OUTROS',\n",
    "                                                                   'CONSUMO E ADMISSAO TEMPORARIA':'REGIMES_OUTROS'})\n",
    "df_diSelecionadas['tipoDI'].value_counts()"
   ]
  },
  {
   "cell_type": "code",
   "execution_count": 18,
   "metadata": {
    "scrolled": true
   },
   "outputs": [
    {
     "data": {
      "text/html": [
       "<div>\n",
       "<style scoped>\n",
       "    .dataframe tbody tr th:only-of-type {\n",
       "        vertical-align: middle;\n",
       "    }\n",
       "\n",
       "    .dataframe tbody tr th {\n",
       "        vertical-align: top;\n",
       "    }\n",
       "\n",
       "    .dataframe thead th {\n",
       "        text-align: right;\n",
       "    }\n",
       "</style>\n",
       "<table border=\"1\" class=\"dataframe\">\n",
       "  <thead>\n",
       "    <tr style=\"text-align: right;\">\n",
       "      <th></th>\n",
       "      <th>impPropria</th>\n",
       "      <th>tipoDI</th>\n",
       "      <th>rfDespacho</th>\n",
       "      <th>ufDespacho</th>\n",
       "      <th>paisProcedencia</th>\n",
       "      <th>viaTransporte</th>\n",
       "      <th>retificacao</th>\n",
       "      <th>qtdAdicoes</th>\n",
       "      <th>qtdItens</th>\n",
       "      <th>valorCIF</th>\n",
       "      <th>valorTributos</th>\n",
       "      <th>le_impPropria</th>\n",
       "      <th>dm_CONSUMO</th>\n",
       "      <th>dm_REGIMES_OUTROS</th>\n",
       "    </tr>\n",
       "  </thead>\n",
       "  <tbody>\n",
       "    <tr>\n",
       "      <th>10</th>\n",
       "      <td>True</td>\n",
       "      <td>CONSUMO</td>\n",
       "      <td>10ª RF</td>\n",
       "      <td>RS</td>\n",
       "      <td>PAIS_OUTROS</td>\n",
       "      <td>AEREA</td>\n",
       "      <td>0</td>\n",
       "      <td>1</td>\n",
       "      <td>1</td>\n",
       "      <td>795.59</td>\n",
       "      <td>173.02</td>\n",
       "      <td>1</td>\n",
       "      <td>1</td>\n",
       "      <td>0</td>\n",
       "    </tr>\n",
       "    <tr>\n",
       "      <th>35</th>\n",
       "      <td>True</td>\n",
       "      <td>REGIMES_OUTROS</td>\n",
       "      <td>10ª RF</td>\n",
       "      <td>RS</td>\n",
       "      <td>PAIS_OUTROS</td>\n",
       "      <td>RODOVIARIA</td>\n",
       "      <td>0</td>\n",
       "      <td>1</td>\n",
       "      <td>1</td>\n",
       "      <td>1348.08</td>\n",
       "      <td>0.00</td>\n",
       "      <td>1</td>\n",
       "      <td>0</td>\n",
       "      <td>1</td>\n",
       "    </tr>\n",
       "    <tr>\n",
       "      <th>72</th>\n",
       "      <td>True</td>\n",
       "      <td>CONSUMO</td>\n",
       "      <td>10ª RF</td>\n",
       "      <td>RS</td>\n",
       "      <td>ITALIA</td>\n",
       "      <td>AEREA</td>\n",
       "      <td>1</td>\n",
       "      <td>2</td>\n",
       "      <td>2</td>\n",
       "      <td>1946.70</td>\n",
       "      <td>809.85</td>\n",
       "      <td>1</td>\n",
       "      <td>1</td>\n",
       "      <td>0</td>\n",
       "    </tr>\n",
       "    <tr>\n",
       "      <th>81</th>\n",
       "      <td>True</td>\n",
       "      <td>CONSUMO</td>\n",
       "      <td>10ª RF</td>\n",
       "      <td>RS</td>\n",
       "      <td>INDIA</td>\n",
       "      <td>AEREA</td>\n",
       "      <td>1</td>\n",
       "      <td>4</td>\n",
       "      <td>4</td>\n",
       "      <td>2192.18</td>\n",
       "      <td>859.10</td>\n",
       "      <td>1</td>\n",
       "      <td>1</td>\n",
       "      <td>0</td>\n",
       "    </tr>\n",
       "    <tr>\n",
       "      <th>95</th>\n",
       "      <td>True</td>\n",
       "      <td>REGIMES_OUTROS</td>\n",
       "      <td>10ª RF</td>\n",
       "      <td>RS</td>\n",
       "      <td>CHINA, REPUBLICA POPULAR</td>\n",
       "      <td>MARITIMA</td>\n",
       "      <td>1</td>\n",
       "      <td>1</td>\n",
       "      <td>1</td>\n",
       "      <td>2556.43</td>\n",
       "      <td>1154.21</td>\n",
       "      <td>1</td>\n",
       "      <td>0</td>\n",
       "      <td>1</td>\n",
       "    </tr>\n",
       "  </tbody>\n",
       "</table>\n",
       "</div>"
      ],
      "text/plain": [
       "    impPropria          tipoDI rfDespacho ufDespacho  \\\n",
       "10        True         CONSUMO     10ª RF         RS   \n",
       "35        True  REGIMES_OUTROS     10ª RF         RS   \n",
       "72        True         CONSUMO     10ª RF         RS   \n",
       "81        True         CONSUMO     10ª RF         RS   \n",
       "95        True  REGIMES_OUTROS     10ª RF         RS   \n",
       "\n",
       "             paisProcedencia viaTransporte  retificacao  qtdAdicoes  qtdItens  \\\n",
       "10               PAIS_OUTROS         AEREA            0           1         1   \n",
       "35               PAIS_OUTROS    RODOVIARIA            0           1         1   \n",
       "72                    ITALIA         AEREA            1           2         2   \n",
       "81                     INDIA         AEREA            1           4         4   \n",
       "95  CHINA, REPUBLICA POPULAR      MARITIMA            1           1         1   \n",
       "\n",
       "    valorCIF  valorTributos  le_impPropria  dm_CONSUMO  dm_REGIMES_OUTROS  \n",
       "10    795.59         173.02              1           1                  0  \n",
       "35   1348.08           0.00              1           0                  1  \n",
       "72   1946.70         809.85              1           1                  0  \n",
       "81   2192.18         859.10              1           1                  0  \n",
       "95   2556.43        1154.21              1           0                  1  "
      ]
     },
     "execution_count": 18,
     "metadata": {},
     "output_type": "execute_result"
    }
   ],
   "source": [
    "# Criando variáveis dummies para a coluna tipoDI\n",
    "dummies = pd.get_dummies(df_diSelecionadas['tipoDI'], prefix = 'dm') # drop_first = True\n",
    "df_diSelecionadas = pd.concat([df_diSelecionadas, dummies], axis = 1)\n",
    "df_diSelecionadas.head()"
   ]
  },
  {
   "cell_type": "code",
   "execution_count": 19,
   "metadata": {},
   "outputs": [
    {
     "data": {
      "text/plain": [
       "(1659, 14)"
      ]
     },
     "execution_count": 19,
     "metadata": {},
     "output_type": "execute_result"
    }
   ],
   "source": [
    "df_diSelecionadas.shape"
   ]
  },
  {
   "cell_type": "code",
   "execution_count": 20,
   "metadata": {},
   "outputs": [
    {
     "data": {
      "text/plain": [
       "array(['PAIS_OUTROS', 'ITALIA', 'INDIA', 'CHINA, REPUBLICA POPULAR',\n",
       "       'ESPANHA', 'ESTADOS UNIDOS', 'HONG KONG', 'ALEMANHA', 'ARGENTINA',\n",
       "       'PAISES BAIXOS (HOLANDA)'], dtype=object)"
      ]
     },
     "execution_count": 20,
     "metadata": {},
     "output_type": "execute_result"
    }
   ],
   "source": [
    "# Verificando os valores existentes para a coluna paisProcedencia (cardinalidade)\n",
    "df_diSelecionadas['paisProcedencia'].unique()"
   ]
  },
  {
   "cell_type": "code",
   "execution_count": 21,
   "metadata": {},
   "outputs": [
    {
     "data": {
      "text/plain": [
       "CHINA, REPUBLICA POPULAR    497\n",
       "PAIS_OUTROS                 382\n",
       "ARGENTINA                   210\n",
       "ITALIA                      173\n",
       "ESTADOS UNIDOS              170\n",
       "ALEMANHA                    119\n",
       "INDIA                        34\n",
       "ESPANHA                      33\n",
       "HONG KONG                    28\n",
       "PAISES BAIXOS (HOLANDA)      13\n",
       "Name: paisProcedencia, dtype: int64"
      ]
     },
     "execution_count": 21,
     "metadata": {},
     "output_type": "execute_result"
    }
   ],
   "source": [
    "# Verificando o número de registros para cada valor da coluna paisProcedencia\n",
    "\n",
    "# Tendo em vista a alta cardinalidade verificada nos dados originais, contendo 103 valores distintos, procedeu-se\n",
    "# o agrupamento dos dados, considerados os 9 países com maior volume de declarações de importação selecionadas, sendo\n",
    "# criada a classe PAIS_OUTROS para as entradas restantes da base de dados. Esse agrupamento foi realizado com o uso da\n",
    "# ferramenta Contágil, por questões de simplificação.\n",
    "\n",
    "df_diSelecionadas[\"paisProcedencia\"].value_counts()"
   ]
  },
  {
   "cell_type": "code",
   "execution_count": 22,
   "metadata": {},
   "outputs": [
    {
     "data": {
      "text/plain": [
       "CHINA          497\n",
       "PAIS_OUTROS    490\n",
       "ARGENTINA      210\n",
       "ITALIA         173\n",
       "EUA            170\n",
       "ALEMANHA       119\n",
       "Name: paisProcedencia, dtype: int64"
      ]
     },
     "execution_count": 22,
     "metadata": {},
     "output_type": "execute_result"
    }
   ],
   "source": [
    "# Organizando os valores da coluna paisProcedencia\n",
    "df_diSelecionadas['paisProcedencia'] = df_diSelecionadas['paisProcedencia'].replace({'CHINA, REPUBLICA POPULAR':'CHINA',\n",
    "                                                                                     'ESTADOS UNIDOS':'EUA',\n",
    "                                                                                     'INDIA':'PAIS_OUTROS',\n",
    "                                                                                     'ESPANHA':'PAIS_OUTROS',\n",
    "                                                                                     'HONG KONG':'PAIS_OUTROS',\n",
    "                                                                                     'PAISES BAIXOS (HOLANDA)':'PAIS_OUTROS'})\n",
    "df_diSelecionadas['paisProcedencia'].value_counts()"
   ]
  },
  {
   "cell_type": "code",
   "execution_count": 23,
   "metadata": {},
   "outputs": [
    {
     "data": {
      "text/html": [
       "<div>\n",
       "<style scoped>\n",
       "    .dataframe tbody tr th:only-of-type {\n",
       "        vertical-align: middle;\n",
       "    }\n",
       "\n",
       "    .dataframe tbody tr th {\n",
       "        vertical-align: top;\n",
       "    }\n",
       "\n",
       "    .dataframe thead th {\n",
       "        text-align: right;\n",
       "    }\n",
       "</style>\n",
       "<table border=\"1\" class=\"dataframe\">\n",
       "  <thead>\n",
       "    <tr style=\"text-align: right;\">\n",
       "      <th></th>\n",
       "      <th>impPropria</th>\n",
       "      <th>tipoDI</th>\n",
       "      <th>rfDespacho</th>\n",
       "      <th>ufDespacho</th>\n",
       "      <th>paisProcedencia</th>\n",
       "      <th>viaTransporte</th>\n",
       "      <th>retificacao</th>\n",
       "      <th>qtdAdicoes</th>\n",
       "      <th>qtdItens</th>\n",
       "      <th>valorCIF</th>\n",
       "      <th>valorTributos</th>\n",
       "      <th>le_impPropria</th>\n",
       "      <th>dm_CONSUMO</th>\n",
       "      <th>dm_REGIMES_OUTROS</th>\n",
       "      <th>dm_ALEMANHA</th>\n",
       "      <th>dm_ARGENTINA</th>\n",
       "      <th>dm_CHINA</th>\n",
       "      <th>dm_EUA</th>\n",
       "      <th>dm_ITALIA</th>\n",
       "      <th>dm_PAIS_OUTROS</th>\n",
       "    </tr>\n",
       "  </thead>\n",
       "  <tbody>\n",
       "    <tr>\n",
       "      <th>10</th>\n",
       "      <td>True</td>\n",
       "      <td>CONSUMO</td>\n",
       "      <td>10ª RF</td>\n",
       "      <td>RS</td>\n",
       "      <td>PAIS_OUTROS</td>\n",
       "      <td>AEREA</td>\n",
       "      <td>0</td>\n",
       "      <td>1</td>\n",
       "      <td>1</td>\n",
       "      <td>795.59</td>\n",
       "      <td>173.02</td>\n",
       "      <td>1</td>\n",
       "      <td>1</td>\n",
       "      <td>0</td>\n",
       "      <td>0</td>\n",
       "      <td>0</td>\n",
       "      <td>0</td>\n",
       "      <td>0</td>\n",
       "      <td>0</td>\n",
       "      <td>1</td>\n",
       "    </tr>\n",
       "    <tr>\n",
       "      <th>35</th>\n",
       "      <td>True</td>\n",
       "      <td>REGIMES_OUTROS</td>\n",
       "      <td>10ª RF</td>\n",
       "      <td>RS</td>\n",
       "      <td>PAIS_OUTROS</td>\n",
       "      <td>RODOVIARIA</td>\n",
       "      <td>0</td>\n",
       "      <td>1</td>\n",
       "      <td>1</td>\n",
       "      <td>1348.08</td>\n",
       "      <td>0.00</td>\n",
       "      <td>1</td>\n",
       "      <td>0</td>\n",
       "      <td>1</td>\n",
       "      <td>0</td>\n",
       "      <td>0</td>\n",
       "      <td>0</td>\n",
       "      <td>0</td>\n",
       "      <td>0</td>\n",
       "      <td>1</td>\n",
       "    </tr>\n",
       "    <tr>\n",
       "      <th>72</th>\n",
       "      <td>True</td>\n",
       "      <td>CONSUMO</td>\n",
       "      <td>10ª RF</td>\n",
       "      <td>RS</td>\n",
       "      <td>ITALIA</td>\n",
       "      <td>AEREA</td>\n",
       "      <td>1</td>\n",
       "      <td>2</td>\n",
       "      <td>2</td>\n",
       "      <td>1946.70</td>\n",
       "      <td>809.85</td>\n",
       "      <td>1</td>\n",
       "      <td>1</td>\n",
       "      <td>0</td>\n",
       "      <td>0</td>\n",
       "      <td>0</td>\n",
       "      <td>0</td>\n",
       "      <td>0</td>\n",
       "      <td>1</td>\n",
       "      <td>0</td>\n",
       "    </tr>\n",
       "    <tr>\n",
       "      <th>81</th>\n",
       "      <td>True</td>\n",
       "      <td>CONSUMO</td>\n",
       "      <td>10ª RF</td>\n",
       "      <td>RS</td>\n",
       "      <td>PAIS_OUTROS</td>\n",
       "      <td>AEREA</td>\n",
       "      <td>1</td>\n",
       "      <td>4</td>\n",
       "      <td>4</td>\n",
       "      <td>2192.18</td>\n",
       "      <td>859.10</td>\n",
       "      <td>1</td>\n",
       "      <td>1</td>\n",
       "      <td>0</td>\n",
       "      <td>0</td>\n",
       "      <td>0</td>\n",
       "      <td>0</td>\n",
       "      <td>0</td>\n",
       "      <td>0</td>\n",
       "      <td>1</td>\n",
       "    </tr>\n",
       "    <tr>\n",
       "      <th>95</th>\n",
       "      <td>True</td>\n",
       "      <td>REGIMES_OUTROS</td>\n",
       "      <td>10ª RF</td>\n",
       "      <td>RS</td>\n",
       "      <td>CHINA</td>\n",
       "      <td>MARITIMA</td>\n",
       "      <td>1</td>\n",
       "      <td>1</td>\n",
       "      <td>1</td>\n",
       "      <td>2556.43</td>\n",
       "      <td>1154.21</td>\n",
       "      <td>1</td>\n",
       "      <td>0</td>\n",
       "      <td>1</td>\n",
       "      <td>0</td>\n",
       "      <td>0</td>\n",
       "      <td>1</td>\n",
       "      <td>0</td>\n",
       "      <td>0</td>\n",
       "      <td>0</td>\n",
       "    </tr>\n",
       "  </tbody>\n",
       "</table>\n",
       "</div>"
      ],
      "text/plain": [
       "    impPropria          tipoDI rfDespacho ufDespacho paisProcedencia  \\\n",
       "10        True         CONSUMO     10ª RF         RS     PAIS_OUTROS   \n",
       "35        True  REGIMES_OUTROS     10ª RF         RS     PAIS_OUTROS   \n",
       "72        True         CONSUMO     10ª RF         RS          ITALIA   \n",
       "81        True         CONSUMO     10ª RF         RS     PAIS_OUTROS   \n",
       "95        True  REGIMES_OUTROS     10ª RF         RS           CHINA   \n",
       "\n",
       "   viaTransporte  retificacao  qtdAdicoes  qtdItens  valorCIF  valorTributos  \\\n",
       "10         AEREA            0           1         1    795.59         173.02   \n",
       "35    RODOVIARIA            0           1         1   1348.08           0.00   \n",
       "72         AEREA            1           2         2   1946.70         809.85   \n",
       "81         AEREA            1           4         4   2192.18         859.10   \n",
       "95      MARITIMA            1           1         1   2556.43        1154.21   \n",
       "\n",
       "    le_impPropria  dm_CONSUMO  dm_REGIMES_OUTROS  dm_ALEMANHA  dm_ARGENTINA  \\\n",
       "10              1           1                  0            0             0   \n",
       "35              1           0                  1            0             0   \n",
       "72              1           1                  0            0             0   \n",
       "81              1           1                  0            0             0   \n",
       "95              1           0                  1            0             0   \n",
       "\n",
       "    dm_CHINA  dm_EUA  dm_ITALIA  dm_PAIS_OUTROS  \n",
       "10         0       0          0               1  \n",
       "35         0       0          0               1  \n",
       "72         0       0          1               0  \n",
       "81         0       0          0               1  \n",
       "95         1       0          0               0  "
      ]
     },
     "execution_count": 23,
     "metadata": {},
     "output_type": "execute_result"
    }
   ],
   "source": [
    "# Criando variáveis dummies para a coluna paisProcedencia\n",
    "dummies = pd.get_dummies(df_diSelecionadas['paisProcedencia'], prefix = 'dm') # drop_first = True\n",
    "df_diSelecionadas = pd.concat([df_diSelecionadas, dummies], axis = 1)\n",
    "df_diSelecionadas.head()"
   ]
  },
  {
   "cell_type": "code",
   "execution_count": 24,
   "metadata": {},
   "outputs": [
    {
     "data": {
      "text/plain": [
       "array(['AEREA', 'RODOVIARIA', 'MARITIMA', 'MEIOS PROPRIOS',\n",
       "       'CONDUTO / REDE TRANSMISSAO'], dtype=object)"
      ]
     },
     "execution_count": 24,
     "metadata": {},
     "output_type": "execute_result"
    }
   ],
   "source": [
    "# Verificando os valores existentes para a coluna viaTransporte (cardinalidade)\n",
    "df_diSelecionadas['viaTransporte'].unique()"
   ]
  },
  {
   "cell_type": "code",
   "execution_count": 25,
   "metadata": {},
   "outputs": [
    {
     "data": {
      "text/plain": [
       "MARITIMA                      981\n",
       "RODOVIARIA                    356\n",
       "AEREA                         319\n",
       "MEIOS PROPRIOS                  2\n",
       "CONDUTO / REDE TRANSMISSAO      1\n",
       "Name: viaTransporte, dtype: int64"
      ]
     },
     "execution_count": 25,
     "metadata": {},
     "output_type": "execute_result"
    }
   ],
   "source": [
    "# Verificando o número de registros para cada valor da coluna viaTransporte\n",
    "df_diSelecionadas['viaTransporte'].value_counts()"
   ]
  },
  {
   "cell_type": "code",
   "execution_count": 26,
   "metadata": {},
   "outputs": [
    {
     "data": {
      "text/plain": [
       "MARITIMA      981\n",
       "RODOVIARIA    359\n",
       "AEREA         319\n",
       "Name: viaTransporte, dtype: int64"
      ]
     },
     "execution_count": 26,
     "metadata": {},
     "output_type": "execute_result"
    }
   ],
   "source": [
    "# Agrupando os valores da coluna viaTransporte\n",
    "df_diSelecionadas['viaTransporte'] = df_diSelecionadas['viaTransporte'].replace({'MEIOS PROPRIOS':'RODOVIARIA',\n",
    "                                                                                 'CONDUTO / REDE TRANSMISSAO':'RODOVIARIA'})\n",
    "df_diSelecionadas['viaTransporte'].value_counts()"
   ]
  },
  {
   "cell_type": "code",
   "execution_count": 27,
   "metadata": {},
   "outputs": [
    {
     "data": {
      "text/html": [
       "<div>\n",
       "<style scoped>\n",
       "    .dataframe tbody tr th:only-of-type {\n",
       "        vertical-align: middle;\n",
       "    }\n",
       "\n",
       "    .dataframe tbody tr th {\n",
       "        vertical-align: top;\n",
       "    }\n",
       "\n",
       "    .dataframe thead th {\n",
       "        text-align: right;\n",
       "    }\n",
       "</style>\n",
       "<table border=\"1\" class=\"dataframe\">\n",
       "  <thead>\n",
       "    <tr style=\"text-align: right;\">\n",
       "      <th></th>\n",
       "      <th>impPropria</th>\n",
       "      <th>tipoDI</th>\n",
       "      <th>rfDespacho</th>\n",
       "      <th>ufDespacho</th>\n",
       "      <th>paisProcedencia</th>\n",
       "      <th>viaTransporte</th>\n",
       "      <th>retificacao</th>\n",
       "      <th>qtdAdicoes</th>\n",
       "      <th>qtdItens</th>\n",
       "      <th>valorCIF</th>\n",
       "      <th>...</th>\n",
       "      <th>dm_REGIMES_OUTROS</th>\n",
       "      <th>dm_ALEMANHA</th>\n",
       "      <th>dm_ARGENTINA</th>\n",
       "      <th>dm_CHINA</th>\n",
       "      <th>dm_EUA</th>\n",
       "      <th>dm_ITALIA</th>\n",
       "      <th>dm_PAIS_OUTROS</th>\n",
       "      <th>dm_AEREA</th>\n",
       "      <th>dm_MARITIMA</th>\n",
       "      <th>dm_RODOVIARIA</th>\n",
       "    </tr>\n",
       "  </thead>\n",
       "  <tbody>\n",
       "    <tr>\n",
       "      <th>10</th>\n",
       "      <td>True</td>\n",
       "      <td>CONSUMO</td>\n",
       "      <td>10ª RF</td>\n",
       "      <td>RS</td>\n",
       "      <td>PAIS_OUTROS</td>\n",
       "      <td>AEREA</td>\n",
       "      <td>0</td>\n",
       "      <td>1</td>\n",
       "      <td>1</td>\n",
       "      <td>795.59</td>\n",
       "      <td>...</td>\n",
       "      <td>0</td>\n",
       "      <td>0</td>\n",
       "      <td>0</td>\n",
       "      <td>0</td>\n",
       "      <td>0</td>\n",
       "      <td>0</td>\n",
       "      <td>1</td>\n",
       "      <td>1</td>\n",
       "      <td>0</td>\n",
       "      <td>0</td>\n",
       "    </tr>\n",
       "    <tr>\n",
       "      <th>35</th>\n",
       "      <td>True</td>\n",
       "      <td>REGIMES_OUTROS</td>\n",
       "      <td>10ª RF</td>\n",
       "      <td>RS</td>\n",
       "      <td>PAIS_OUTROS</td>\n",
       "      <td>RODOVIARIA</td>\n",
       "      <td>0</td>\n",
       "      <td>1</td>\n",
       "      <td>1</td>\n",
       "      <td>1348.08</td>\n",
       "      <td>...</td>\n",
       "      <td>1</td>\n",
       "      <td>0</td>\n",
       "      <td>0</td>\n",
       "      <td>0</td>\n",
       "      <td>0</td>\n",
       "      <td>0</td>\n",
       "      <td>1</td>\n",
       "      <td>0</td>\n",
       "      <td>0</td>\n",
       "      <td>1</td>\n",
       "    </tr>\n",
       "    <tr>\n",
       "      <th>72</th>\n",
       "      <td>True</td>\n",
       "      <td>CONSUMO</td>\n",
       "      <td>10ª RF</td>\n",
       "      <td>RS</td>\n",
       "      <td>ITALIA</td>\n",
       "      <td>AEREA</td>\n",
       "      <td>1</td>\n",
       "      <td>2</td>\n",
       "      <td>2</td>\n",
       "      <td>1946.70</td>\n",
       "      <td>...</td>\n",
       "      <td>0</td>\n",
       "      <td>0</td>\n",
       "      <td>0</td>\n",
       "      <td>0</td>\n",
       "      <td>0</td>\n",
       "      <td>1</td>\n",
       "      <td>0</td>\n",
       "      <td>1</td>\n",
       "      <td>0</td>\n",
       "      <td>0</td>\n",
       "    </tr>\n",
       "    <tr>\n",
       "      <th>81</th>\n",
       "      <td>True</td>\n",
       "      <td>CONSUMO</td>\n",
       "      <td>10ª RF</td>\n",
       "      <td>RS</td>\n",
       "      <td>PAIS_OUTROS</td>\n",
       "      <td>AEREA</td>\n",
       "      <td>1</td>\n",
       "      <td>4</td>\n",
       "      <td>4</td>\n",
       "      <td>2192.18</td>\n",
       "      <td>...</td>\n",
       "      <td>0</td>\n",
       "      <td>0</td>\n",
       "      <td>0</td>\n",
       "      <td>0</td>\n",
       "      <td>0</td>\n",
       "      <td>0</td>\n",
       "      <td>1</td>\n",
       "      <td>1</td>\n",
       "      <td>0</td>\n",
       "      <td>0</td>\n",
       "    </tr>\n",
       "    <tr>\n",
       "      <th>95</th>\n",
       "      <td>True</td>\n",
       "      <td>REGIMES_OUTROS</td>\n",
       "      <td>10ª RF</td>\n",
       "      <td>RS</td>\n",
       "      <td>CHINA</td>\n",
       "      <td>MARITIMA</td>\n",
       "      <td>1</td>\n",
       "      <td>1</td>\n",
       "      <td>1</td>\n",
       "      <td>2556.43</td>\n",
       "      <td>...</td>\n",
       "      <td>1</td>\n",
       "      <td>0</td>\n",
       "      <td>0</td>\n",
       "      <td>1</td>\n",
       "      <td>0</td>\n",
       "      <td>0</td>\n",
       "      <td>0</td>\n",
       "      <td>0</td>\n",
       "      <td>1</td>\n",
       "      <td>0</td>\n",
       "    </tr>\n",
       "  </tbody>\n",
       "</table>\n",
       "<p>5 rows × 23 columns</p>\n",
       "</div>"
      ],
      "text/plain": [
       "    impPropria          tipoDI rfDespacho ufDespacho paisProcedencia  \\\n",
       "10        True         CONSUMO     10ª RF         RS     PAIS_OUTROS   \n",
       "35        True  REGIMES_OUTROS     10ª RF         RS     PAIS_OUTROS   \n",
       "72        True         CONSUMO     10ª RF         RS          ITALIA   \n",
       "81        True         CONSUMO     10ª RF         RS     PAIS_OUTROS   \n",
       "95        True  REGIMES_OUTROS     10ª RF         RS           CHINA   \n",
       "\n",
       "   viaTransporte  retificacao  qtdAdicoes  qtdItens  valorCIF  ...  \\\n",
       "10         AEREA            0           1         1    795.59  ...   \n",
       "35    RODOVIARIA            0           1         1   1348.08  ...   \n",
       "72         AEREA            1           2         2   1946.70  ...   \n",
       "81         AEREA            1           4         4   2192.18  ...   \n",
       "95      MARITIMA            1           1         1   2556.43  ...   \n",
       "\n",
       "    dm_REGIMES_OUTROS  dm_ALEMANHA  dm_ARGENTINA  dm_CHINA  dm_EUA  dm_ITALIA  \\\n",
       "10                  0            0             0         0       0          0   \n",
       "35                  1            0             0         0       0          0   \n",
       "72                  0            0             0         0       0          1   \n",
       "81                  0            0             0         0       0          0   \n",
       "95                  1            0             0         1       0          0   \n",
       "\n",
       "    dm_PAIS_OUTROS  dm_AEREA  dm_MARITIMA  dm_RODOVIARIA  \n",
       "10               1         1            0              0  \n",
       "35               1         0            0              1  \n",
       "72               0         1            0              0  \n",
       "81               1         1            0              0  \n",
       "95               0         0            1              0  \n",
       "\n",
       "[5 rows x 23 columns]"
      ]
     },
     "execution_count": 27,
     "metadata": {},
     "output_type": "execute_result"
    }
   ],
   "source": [
    "# Criando variáveis dummies para a coluna viaTransporte\n",
    "dummies = pd.get_dummies(df_diSelecionadas['viaTransporte'], prefix = 'dm') # drop_first = True\n",
    "df_diSelecionadas = pd.concat([df_diSelecionadas, dummies], axis = 1)\n",
    "df_diSelecionadas.head()"
   ]
  },
  {
   "cell_type": "code",
   "execution_count": 28,
   "metadata": {},
   "outputs": [
    {
     "data": {
      "text/plain": [
       "impPropria              bool\n",
       "tipoDI                object\n",
       "rfDespacho            object\n",
       "ufDespacho            object\n",
       "paisProcedencia       object\n",
       "viaTransporte         object\n",
       "retificacao            int64\n",
       "qtdAdicoes             int64\n",
       "qtdItens               int64\n",
       "valorCIF             float64\n",
       "valorTributos        float64\n",
       "le_impPropria          int64\n",
       "dm_CONSUMO             uint8\n",
       "dm_REGIMES_OUTROS      uint8\n",
       "dm_ALEMANHA            uint8\n",
       "dm_ARGENTINA           uint8\n",
       "dm_CHINA               uint8\n",
       "dm_EUA                 uint8\n",
       "dm_ITALIA              uint8\n",
       "dm_PAIS_OUTROS         uint8\n",
       "dm_AEREA               uint8\n",
       "dm_MARITIMA            uint8\n",
       "dm_RODOVIARIA          uint8\n",
       "dtype: object"
      ]
     },
     "execution_count": 28,
     "metadata": {},
     "output_type": "execute_result"
    }
   ],
   "source": [
    "df_diSelecionadas.dtypes"
   ]
  },
  {
   "cell_type": "markdown",
   "metadata": {},
   "source": [
    "## Tratamento das variáveis quantitativas"
   ]
  },
  {
   "cell_type": "code",
   "execution_count": 29,
   "metadata": {},
   "outputs": [
    {
     "data": {
      "text/plain": [
       "count    1659.000000\n",
       "mean        3.904159\n",
       "std         8.690627\n",
       "min         1.000000\n",
       "25%         1.000000\n",
       "50%         1.000000\n",
       "75%         3.000000\n",
       "max       133.000000\n",
       "Name: qtdAdicoes, dtype: float64"
      ]
     },
     "execution_count": 29,
     "metadata": {},
     "output_type": "execute_result"
    }
   ],
   "source": [
    "# Verificando a distribuição da variável qtdAdicoes\n",
    "df_diSelecionadas['qtdAdicoes'].describe()"
   ]
  },
  {
   "cell_type": "code",
   "execution_count": 30,
   "metadata": {},
   "outputs": [
    {
     "data": {
      "text/plain": [
       "array(['1', '2', '3'], dtype=object)"
      ]
     },
     "execution_count": 30,
     "metadata": {},
     "output_type": "execute_result"
    }
   ],
   "source": [
    "# Transformando a variável qtdAdicoes em categórica\n",
    "\n",
    "# Conforme a distribuição da variável e as regras de negócio, optou-se pelas seguintes categorias:\n",
    "\n",
    "#    1 - Declarações com 1 adição\n",
    "#    2 - Declarações com 2 até 9 adições\n",
    "#    3 - Declarações com 10 ou mais adições\n",
    "\n",
    "def transf_qtdAdicoes(x):\n",
    "    if x > 9:\n",
    "        x = 3\n",
    "    elif x > 1:\n",
    "        x = 2\n",
    "    else:\n",
    "        x = 1\n",
    "    return x\n",
    "\n",
    "df_diSelecionadas['cat_qtdAdicoes'] = df_diSelecionadas['qtdAdicoes'].apply(lambda x: str(transf_qtdAdicoes(x)))\n",
    "df_diSelecionadas['cat_qtdAdicoes'].unique()"
   ]
  },
  {
   "cell_type": "code",
   "execution_count": 31,
   "metadata": {
    "scrolled": true
   },
   "outputs": [
    {
     "data": {
      "text/html": [
       "<div>\n",
       "<style scoped>\n",
       "    .dataframe tbody tr th:only-of-type {\n",
       "        vertical-align: middle;\n",
       "    }\n",
       "\n",
       "    .dataframe tbody tr th {\n",
       "        vertical-align: top;\n",
       "    }\n",
       "\n",
       "    .dataframe thead th {\n",
       "        text-align: right;\n",
       "    }\n",
       "</style>\n",
       "<table border=\"1\" class=\"dataframe\">\n",
       "  <thead>\n",
       "    <tr style=\"text-align: right;\">\n",
       "      <th></th>\n",
       "      <th>impPropria</th>\n",
       "      <th>tipoDI</th>\n",
       "      <th>rfDespacho</th>\n",
       "      <th>ufDespacho</th>\n",
       "      <th>paisProcedencia</th>\n",
       "      <th>viaTransporte</th>\n",
       "      <th>retificacao</th>\n",
       "      <th>qtdAdicoes</th>\n",
       "      <th>qtdItens</th>\n",
       "      <th>valorCIF</th>\n",
       "      <th>...</th>\n",
       "      <th>dm_EUA</th>\n",
       "      <th>dm_ITALIA</th>\n",
       "      <th>dm_PAIS_OUTROS</th>\n",
       "      <th>dm_AEREA</th>\n",
       "      <th>dm_MARITIMA</th>\n",
       "      <th>dm_RODOVIARIA</th>\n",
       "      <th>cat_qtdAdicoes</th>\n",
       "      <th>dm_qtdAdicoes_1</th>\n",
       "      <th>dm_qtdAdicoes_2</th>\n",
       "      <th>dm_qtdAdicoes_3</th>\n",
       "    </tr>\n",
       "  </thead>\n",
       "  <tbody>\n",
       "    <tr>\n",
       "      <th>10</th>\n",
       "      <td>True</td>\n",
       "      <td>CONSUMO</td>\n",
       "      <td>10ª RF</td>\n",
       "      <td>RS</td>\n",
       "      <td>PAIS_OUTROS</td>\n",
       "      <td>AEREA</td>\n",
       "      <td>0</td>\n",
       "      <td>1</td>\n",
       "      <td>1</td>\n",
       "      <td>795.59</td>\n",
       "      <td>...</td>\n",
       "      <td>0</td>\n",
       "      <td>0</td>\n",
       "      <td>1</td>\n",
       "      <td>1</td>\n",
       "      <td>0</td>\n",
       "      <td>0</td>\n",
       "      <td>1</td>\n",
       "      <td>1</td>\n",
       "      <td>0</td>\n",
       "      <td>0</td>\n",
       "    </tr>\n",
       "    <tr>\n",
       "      <th>35</th>\n",
       "      <td>True</td>\n",
       "      <td>REGIMES_OUTROS</td>\n",
       "      <td>10ª RF</td>\n",
       "      <td>RS</td>\n",
       "      <td>PAIS_OUTROS</td>\n",
       "      <td>RODOVIARIA</td>\n",
       "      <td>0</td>\n",
       "      <td>1</td>\n",
       "      <td>1</td>\n",
       "      <td>1348.08</td>\n",
       "      <td>...</td>\n",
       "      <td>0</td>\n",
       "      <td>0</td>\n",
       "      <td>1</td>\n",
       "      <td>0</td>\n",
       "      <td>0</td>\n",
       "      <td>1</td>\n",
       "      <td>1</td>\n",
       "      <td>1</td>\n",
       "      <td>0</td>\n",
       "      <td>0</td>\n",
       "    </tr>\n",
       "    <tr>\n",
       "      <th>72</th>\n",
       "      <td>True</td>\n",
       "      <td>CONSUMO</td>\n",
       "      <td>10ª RF</td>\n",
       "      <td>RS</td>\n",
       "      <td>ITALIA</td>\n",
       "      <td>AEREA</td>\n",
       "      <td>1</td>\n",
       "      <td>2</td>\n",
       "      <td>2</td>\n",
       "      <td>1946.70</td>\n",
       "      <td>...</td>\n",
       "      <td>0</td>\n",
       "      <td>1</td>\n",
       "      <td>0</td>\n",
       "      <td>1</td>\n",
       "      <td>0</td>\n",
       "      <td>0</td>\n",
       "      <td>2</td>\n",
       "      <td>0</td>\n",
       "      <td>1</td>\n",
       "      <td>0</td>\n",
       "    </tr>\n",
       "    <tr>\n",
       "      <th>81</th>\n",
       "      <td>True</td>\n",
       "      <td>CONSUMO</td>\n",
       "      <td>10ª RF</td>\n",
       "      <td>RS</td>\n",
       "      <td>PAIS_OUTROS</td>\n",
       "      <td>AEREA</td>\n",
       "      <td>1</td>\n",
       "      <td>4</td>\n",
       "      <td>4</td>\n",
       "      <td>2192.18</td>\n",
       "      <td>...</td>\n",
       "      <td>0</td>\n",
       "      <td>0</td>\n",
       "      <td>1</td>\n",
       "      <td>1</td>\n",
       "      <td>0</td>\n",
       "      <td>0</td>\n",
       "      <td>2</td>\n",
       "      <td>0</td>\n",
       "      <td>1</td>\n",
       "      <td>0</td>\n",
       "    </tr>\n",
       "    <tr>\n",
       "      <th>95</th>\n",
       "      <td>True</td>\n",
       "      <td>REGIMES_OUTROS</td>\n",
       "      <td>10ª RF</td>\n",
       "      <td>RS</td>\n",
       "      <td>CHINA</td>\n",
       "      <td>MARITIMA</td>\n",
       "      <td>1</td>\n",
       "      <td>1</td>\n",
       "      <td>1</td>\n",
       "      <td>2556.43</td>\n",
       "      <td>...</td>\n",
       "      <td>0</td>\n",
       "      <td>0</td>\n",
       "      <td>0</td>\n",
       "      <td>0</td>\n",
       "      <td>1</td>\n",
       "      <td>0</td>\n",
       "      <td>1</td>\n",
       "      <td>1</td>\n",
       "      <td>0</td>\n",
       "      <td>0</td>\n",
       "    </tr>\n",
       "  </tbody>\n",
       "</table>\n",
       "<p>5 rows × 27 columns</p>\n",
       "</div>"
      ],
      "text/plain": [
       "    impPropria          tipoDI rfDespacho ufDespacho paisProcedencia  \\\n",
       "10        True         CONSUMO     10ª RF         RS     PAIS_OUTROS   \n",
       "35        True  REGIMES_OUTROS     10ª RF         RS     PAIS_OUTROS   \n",
       "72        True         CONSUMO     10ª RF         RS          ITALIA   \n",
       "81        True         CONSUMO     10ª RF         RS     PAIS_OUTROS   \n",
       "95        True  REGIMES_OUTROS     10ª RF         RS           CHINA   \n",
       "\n",
       "   viaTransporte  retificacao  qtdAdicoes  qtdItens  valorCIF  ...  dm_EUA  \\\n",
       "10         AEREA            0           1         1    795.59  ...       0   \n",
       "35    RODOVIARIA            0           1         1   1348.08  ...       0   \n",
       "72         AEREA            1           2         2   1946.70  ...       0   \n",
       "81         AEREA            1           4         4   2192.18  ...       0   \n",
       "95      MARITIMA            1           1         1   2556.43  ...       0   \n",
       "\n",
       "    dm_ITALIA  dm_PAIS_OUTROS  dm_AEREA  dm_MARITIMA  dm_RODOVIARIA  \\\n",
       "10          0               1         1            0              0   \n",
       "35          0               1         0            0              1   \n",
       "72          1               0         1            0              0   \n",
       "81          0               1         1            0              0   \n",
       "95          0               0         0            1              0   \n",
       "\n",
       "    cat_qtdAdicoes  dm_qtdAdicoes_1  dm_qtdAdicoes_2  dm_qtdAdicoes_3  \n",
       "10               1                1                0                0  \n",
       "35               1                1                0                0  \n",
       "72               2                0                1                0  \n",
       "81               2                0                1                0  \n",
       "95               1                1                0                0  \n",
       "\n",
       "[5 rows x 27 columns]"
      ]
     },
     "execution_count": 31,
     "metadata": {},
     "output_type": "execute_result"
    }
   ],
   "source": [
    "# Criando variáveis dummies para a coluna cat_qtdAdicoes\n",
    "dummies = pd.get_dummies(df_diSelecionadas['cat_qtdAdicoes'], prefix = 'dm_qtdAdicoes') # drop_first = True\n",
    "df_diSelecionadas = pd.concat([df_diSelecionadas, dummies], axis = 1)\n",
    "df_diSelecionadas.head()"
   ]
  },
  {
   "cell_type": "code",
   "execution_count": 32,
   "metadata": {},
   "outputs": [
    {
     "data": {
      "text/plain": [
       "1    911\n",
       "2    611\n",
       "3    137\n",
       "Name: cat_qtdAdicoes, dtype: int64"
      ]
     },
     "execution_count": 32,
     "metadata": {},
     "output_type": "execute_result"
    }
   ],
   "source": [
    "df_diSelecionadas['cat_qtdAdicoes'].value_counts()"
   ]
  },
  {
   "cell_type": "code",
   "execution_count": 33,
   "metadata": {},
   "outputs": [
    {
     "data": {
      "text/plain": [
       "1    911\n",
       "0    748\n",
       "Name: dm_qtdAdicoes_1, dtype: int64"
      ]
     },
     "execution_count": 33,
     "metadata": {},
     "output_type": "execute_result"
    }
   ],
   "source": [
    "df_diSelecionadas['dm_qtdAdicoes_1'].value_counts()"
   ]
  },
  {
   "cell_type": "code",
   "execution_count": 34,
   "metadata": {},
   "outputs": [
    {
     "data": {
      "text/plain": [
       "0    1048\n",
       "1     611\n",
       "Name: dm_qtdAdicoes_2, dtype: int64"
      ]
     },
     "execution_count": 34,
     "metadata": {},
     "output_type": "execute_result"
    }
   ],
   "source": [
    "df_diSelecionadas['dm_qtdAdicoes_2'].value_counts()"
   ]
  },
  {
   "cell_type": "code",
   "execution_count": 35,
   "metadata": {},
   "outputs": [
    {
     "data": {
      "text/plain": [
       "0    1522\n",
       "1     137\n",
       "Name: dm_qtdAdicoes_3, dtype: int64"
      ]
     },
     "execution_count": 35,
     "metadata": {},
     "output_type": "execute_result"
    }
   ],
   "source": [
    "df_diSelecionadas['dm_qtdAdicoes_3'].value_counts()"
   ]
  },
  {
   "cell_type": "code",
   "execution_count": 36,
   "metadata": {},
   "outputs": [
    {
     "data": {
      "text/plain": [
       "count    1659.000000\n",
       "mean       13.208559\n",
       "std        35.850328\n",
       "min         1.000000\n",
       "25%         1.000000\n",
       "50%         3.000000\n",
       "75%         9.000000\n",
       "max       648.000000\n",
       "Name: qtdItens, dtype: float64"
      ]
     },
     "execution_count": 36,
     "metadata": {},
     "output_type": "execute_result"
    }
   ],
   "source": [
    "# Verificando a distribuição da variável qtdItens\n",
    "df_diSelecionadas['qtdItens'].describe()"
   ]
  },
  {
   "cell_type": "code",
   "execution_count": 37,
   "metadata": {},
   "outputs": [
    {
     "data": {
      "text/plain": [
       "array(['1', '2', '3'], dtype=object)"
      ]
     },
     "execution_count": 37,
     "metadata": {},
     "output_type": "execute_result"
    }
   ],
   "source": [
    "# Transformando a variável qtdItens em categórica\n",
    "\n",
    "# Conforme a distribuição da variável e as regras de negócio, optou-se pelas seguintes categorias:\n",
    "\n",
    "#    1 - Declarações com até 3 itens\n",
    "#    2 - Declarações com 4 até 15 itens\n",
    "#    3 - Declarações com 16 ou mais itens\n",
    "\n",
    "def transf_qtdItens(x):\n",
    "    if x > 15:\n",
    "        x = 3\n",
    "    elif x > 3:\n",
    "        x = 2\n",
    "    else:\n",
    "        x = 1\n",
    "    return x\n",
    "\n",
    "df_diSelecionadas['cat_qtdItens'] = df_diSelecionadas['qtdItens'].apply(lambda x: str(transf_qtdItens(x)))\n",
    "df_diSelecionadas['cat_qtdItens'].unique()"
   ]
  },
  {
   "cell_type": "code",
   "execution_count": 38,
   "metadata": {},
   "outputs": [
    {
     "data": {
      "text/html": [
       "<div>\n",
       "<style scoped>\n",
       "    .dataframe tbody tr th:only-of-type {\n",
       "        vertical-align: middle;\n",
       "    }\n",
       "\n",
       "    .dataframe tbody tr th {\n",
       "        vertical-align: top;\n",
       "    }\n",
       "\n",
       "    .dataframe thead th {\n",
       "        text-align: right;\n",
       "    }\n",
       "</style>\n",
       "<table border=\"1\" class=\"dataframe\">\n",
       "  <thead>\n",
       "    <tr style=\"text-align: right;\">\n",
       "      <th></th>\n",
       "      <th>impPropria</th>\n",
       "      <th>tipoDI</th>\n",
       "      <th>rfDespacho</th>\n",
       "      <th>ufDespacho</th>\n",
       "      <th>paisProcedencia</th>\n",
       "      <th>viaTransporte</th>\n",
       "      <th>retificacao</th>\n",
       "      <th>qtdAdicoes</th>\n",
       "      <th>qtdItens</th>\n",
       "      <th>valorCIF</th>\n",
       "      <th>...</th>\n",
       "      <th>dm_MARITIMA</th>\n",
       "      <th>dm_RODOVIARIA</th>\n",
       "      <th>cat_qtdAdicoes</th>\n",
       "      <th>dm_qtdAdicoes_1</th>\n",
       "      <th>dm_qtdAdicoes_2</th>\n",
       "      <th>dm_qtdAdicoes_3</th>\n",
       "      <th>cat_qtdItens</th>\n",
       "      <th>dm_qtdItens_1</th>\n",
       "      <th>dm_qtdItens_2</th>\n",
       "      <th>dm_qtdItens_3</th>\n",
       "    </tr>\n",
       "  </thead>\n",
       "  <tbody>\n",
       "    <tr>\n",
       "      <th>10</th>\n",
       "      <td>True</td>\n",
       "      <td>CONSUMO</td>\n",
       "      <td>10ª RF</td>\n",
       "      <td>RS</td>\n",
       "      <td>PAIS_OUTROS</td>\n",
       "      <td>AEREA</td>\n",
       "      <td>0</td>\n",
       "      <td>1</td>\n",
       "      <td>1</td>\n",
       "      <td>795.59</td>\n",
       "      <td>...</td>\n",
       "      <td>0</td>\n",
       "      <td>0</td>\n",
       "      <td>1</td>\n",
       "      <td>1</td>\n",
       "      <td>0</td>\n",
       "      <td>0</td>\n",
       "      <td>1</td>\n",
       "      <td>1</td>\n",
       "      <td>0</td>\n",
       "      <td>0</td>\n",
       "    </tr>\n",
       "    <tr>\n",
       "      <th>35</th>\n",
       "      <td>True</td>\n",
       "      <td>REGIMES_OUTROS</td>\n",
       "      <td>10ª RF</td>\n",
       "      <td>RS</td>\n",
       "      <td>PAIS_OUTROS</td>\n",
       "      <td>RODOVIARIA</td>\n",
       "      <td>0</td>\n",
       "      <td>1</td>\n",
       "      <td>1</td>\n",
       "      <td>1348.08</td>\n",
       "      <td>...</td>\n",
       "      <td>0</td>\n",
       "      <td>1</td>\n",
       "      <td>1</td>\n",
       "      <td>1</td>\n",
       "      <td>0</td>\n",
       "      <td>0</td>\n",
       "      <td>1</td>\n",
       "      <td>1</td>\n",
       "      <td>0</td>\n",
       "      <td>0</td>\n",
       "    </tr>\n",
       "    <tr>\n",
       "      <th>72</th>\n",
       "      <td>True</td>\n",
       "      <td>CONSUMO</td>\n",
       "      <td>10ª RF</td>\n",
       "      <td>RS</td>\n",
       "      <td>ITALIA</td>\n",
       "      <td>AEREA</td>\n",
       "      <td>1</td>\n",
       "      <td>2</td>\n",
       "      <td>2</td>\n",
       "      <td>1946.70</td>\n",
       "      <td>...</td>\n",
       "      <td>0</td>\n",
       "      <td>0</td>\n",
       "      <td>2</td>\n",
       "      <td>0</td>\n",
       "      <td>1</td>\n",
       "      <td>0</td>\n",
       "      <td>1</td>\n",
       "      <td>1</td>\n",
       "      <td>0</td>\n",
       "      <td>0</td>\n",
       "    </tr>\n",
       "    <tr>\n",
       "      <th>81</th>\n",
       "      <td>True</td>\n",
       "      <td>CONSUMO</td>\n",
       "      <td>10ª RF</td>\n",
       "      <td>RS</td>\n",
       "      <td>PAIS_OUTROS</td>\n",
       "      <td>AEREA</td>\n",
       "      <td>1</td>\n",
       "      <td>4</td>\n",
       "      <td>4</td>\n",
       "      <td>2192.18</td>\n",
       "      <td>...</td>\n",
       "      <td>0</td>\n",
       "      <td>0</td>\n",
       "      <td>2</td>\n",
       "      <td>0</td>\n",
       "      <td>1</td>\n",
       "      <td>0</td>\n",
       "      <td>2</td>\n",
       "      <td>0</td>\n",
       "      <td>1</td>\n",
       "      <td>0</td>\n",
       "    </tr>\n",
       "    <tr>\n",
       "      <th>95</th>\n",
       "      <td>True</td>\n",
       "      <td>REGIMES_OUTROS</td>\n",
       "      <td>10ª RF</td>\n",
       "      <td>RS</td>\n",
       "      <td>CHINA</td>\n",
       "      <td>MARITIMA</td>\n",
       "      <td>1</td>\n",
       "      <td>1</td>\n",
       "      <td>1</td>\n",
       "      <td>2556.43</td>\n",
       "      <td>...</td>\n",
       "      <td>1</td>\n",
       "      <td>0</td>\n",
       "      <td>1</td>\n",
       "      <td>1</td>\n",
       "      <td>0</td>\n",
       "      <td>0</td>\n",
       "      <td>1</td>\n",
       "      <td>1</td>\n",
       "      <td>0</td>\n",
       "      <td>0</td>\n",
       "    </tr>\n",
       "  </tbody>\n",
       "</table>\n",
       "<p>5 rows × 31 columns</p>\n",
       "</div>"
      ],
      "text/plain": [
       "    impPropria          tipoDI rfDespacho ufDespacho paisProcedencia  \\\n",
       "10        True         CONSUMO     10ª RF         RS     PAIS_OUTROS   \n",
       "35        True  REGIMES_OUTROS     10ª RF         RS     PAIS_OUTROS   \n",
       "72        True         CONSUMO     10ª RF         RS          ITALIA   \n",
       "81        True         CONSUMO     10ª RF         RS     PAIS_OUTROS   \n",
       "95        True  REGIMES_OUTROS     10ª RF         RS           CHINA   \n",
       "\n",
       "   viaTransporte  retificacao  qtdAdicoes  qtdItens  valorCIF  ...  \\\n",
       "10         AEREA            0           1         1    795.59  ...   \n",
       "35    RODOVIARIA            0           1         1   1348.08  ...   \n",
       "72         AEREA            1           2         2   1946.70  ...   \n",
       "81         AEREA            1           4         4   2192.18  ...   \n",
       "95      MARITIMA            1           1         1   2556.43  ...   \n",
       "\n",
       "    dm_MARITIMA  dm_RODOVIARIA  cat_qtdAdicoes  dm_qtdAdicoes_1  \\\n",
       "10            0              0               1                1   \n",
       "35            0              1               1                1   \n",
       "72            0              0               2                0   \n",
       "81            0              0               2                0   \n",
       "95            1              0               1                1   \n",
       "\n",
       "    dm_qtdAdicoes_2  dm_qtdAdicoes_3  cat_qtdItens  dm_qtdItens_1  \\\n",
       "10                0                0             1              1   \n",
       "35                0                0             1              1   \n",
       "72                1                0             1              1   \n",
       "81                1                0             2              0   \n",
       "95                0                0             1              1   \n",
       "\n",
       "    dm_qtdItens_2  dm_qtdItens_3  \n",
       "10              0              0  \n",
       "35              0              0  \n",
       "72              0              0  \n",
       "81              1              0  \n",
       "95              0              0  \n",
       "\n",
       "[5 rows x 31 columns]"
      ]
     },
     "execution_count": 38,
     "metadata": {},
     "output_type": "execute_result"
    }
   ],
   "source": [
    "# Criando variáveis dummies para a coluna cat_qtdItens\n",
    "dummies = pd.get_dummies(df_diSelecionadas['cat_qtdItens'], prefix = 'dm_qtdItens') # drop_first = True\n",
    "df_diSelecionadas = pd.concat([df_diSelecionadas, dummies], axis = 1)\n",
    "df_diSelecionadas.head()"
   ]
  },
  {
   "cell_type": "code",
   "execution_count": 39,
   "metadata": {},
   "outputs": [
    {
     "data": {
      "text/plain": [
       "1    924\n",
       "2    445\n",
       "3    290\n",
       "Name: cat_qtdItens, dtype: int64"
      ]
     },
     "execution_count": 39,
     "metadata": {},
     "output_type": "execute_result"
    }
   ],
   "source": [
    "df_diSelecionadas['cat_qtdItens'].value_counts()"
   ]
  },
  {
   "cell_type": "code",
   "execution_count": 40,
   "metadata": {},
   "outputs": [
    {
     "data": {
      "text/plain": [
       "1    924\n",
       "0    735\n",
       "Name: dm_qtdItens_1, dtype: int64"
      ]
     },
     "execution_count": 40,
     "metadata": {},
     "output_type": "execute_result"
    }
   ],
   "source": [
    "df_diSelecionadas['dm_qtdItens_1'].value_counts()"
   ]
  },
  {
   "cell_type": "code",
   "execution_count": 41,
   "metadata": {},
   "outputs": [
    {
     "data": {
      "text/plain": [
       "0    1214\n",
       "1     445\n",
       "Name: dm_qtdItens_2, dtype: int64"
      ]
     },
     "execution_count": 41,
     "metadata": {},
     "output_type": "execute_result"
    }
   ],
   "source": [
    "df_diSelecionadas['dm_qtdItens_2'].value_counts()"
   ]
  },
  {
   "cell_type": "code",
   "execution_count": 42,
   "metadata": {},
   "outputs": [
    {
     "data": {
      "text/plain": [
       "0    1369\n",
       "1     290\n",
       "Name: dm_qtdItens_3, dtype: int64"
      ]
     },
     "execution_count": 42,
     "metadata": {},
     "output_type": "execute_result"
    }
   ],
   "source": [
    "df_diSelecionadas['dm_qtdItens_3'].value_counts()"
   ]
  },
  {
   "cell_type": "code",
   "execution_count": 43,
   "metadata": {},
   "outputs": [
    {
     "data": {
      "text/plain": [
       "count    1.659000e+03\n",
       "mean     6.046641e+05\n",
       "std      1.896570e+06\n",
       "min      7.955900e+02\n",
       "25%      9.216380e+04\n",
       "50%      2.034394e+05\n",
       "75%      5.027874e+05\n",
       "max      4.347081e+07\n",
       "Name: valorCIF, dtype: float64"
      ]
     },
     "execution_count": 43,
     "metadata": {},
     "output_type": "execute_result"
    }
   ],
   "source": [
    "# Verificando a distribuição da variável valorCIF\n",
    "df_diSelecionadas['valorCIF'].describe()"
   ]
  },
  {
   "cell_type": "code",
   "execution_count": 44,
   "metadata": {},
   "outputs": [
    {
     "data": {
      "text/plain": [
       "array(['1', '2', '3', '4'], dtype=object)"
      ]
     },
     "execution_count": 44,
     "metadata": {},
     "output_type": "execute_result"
    }
   ],
   "source": [
    "# Transformando a variável valorCIF em categórica\n",
    "\n",
    "# Conforme a distribuição da variável e as regras de negócio, optou-se pelas seguintes categorias:\n",
    "\n",
    "#    1 - Valor CIF até R$ 75.000,00\n",
    "#    2 - Valor CIF entre R$ 75.000,01 e R$ 185.000,00\n",
    "#    3 - Valor CIF entre R$ 185.000,01 e R$ 370.000,00\n",
    "#    4 - Valor CIF acima de R$ 370.000,01\n",
    "\n",
    "def transf_valorCIF(x):\n",
    "    if x > 370000:\n",
    "        x = 4\n",
    "    elif x > 185000:\n",
    "        x = 3\n",
    "    elif x > 75000:\n",
    "        x = 2\n",
    "    else:\n",
    "        x = 1\n",
    "    return x\n",
    "\n",
    "df_diSelecionadas['cat_valorCIF'] = df_diSelecionadas['valorCIF'].apply(lambda x: str(transf_valorCIF(x)))\n",
    "df_diSelecionadas['cat_valorCIF'].unique()"
   ]
  },
  {
   "cell_type": "code",
   "execution_count": 45,
   "metadata": {},
   "outputs": [
    {
     "data": {
      "text/html": [
       "<div>\n",
       "<style scoped>\n",
       "    .dataframe tbody tr th:only-of-type {\n",
       "        vertical-align: middle;\n",
       "    }\n",
       "\n",
       "    .dataframe tbody tr th {\n",
       "        vertical-align: top;\n",
       "    }\n",
       "\n",
       "    .dataframe thead th {\n",
       "        text-align: right;\n",
       "    }\n",
       "</style>\n",
       "<table border=\"1\" class=\"dataframe\">\n",
       "  <thead>\n",
       "    <tr style=\"text-align: right;\">\n",
       "      <th></th>\n",
       "      <th>impPropria</th>\n",
       "      <th>tipoDI</th>\n",
       "      <th>rfDespacho</th>\n",
       "      <th>ufDespacho</th>\n",
       "      <th>paisProcedencia</th>\n",
       "      <th>viaTransporte</th>\n",
       "      <th>retificacao</th>\n",
       "      <th>qtdAdicoes</th>\n",
       "      <th>qtdItens</th>\n",
       "      <th>valorCIF</th>\n",
       "      <th>...</th>\n",
       "      <th>dm_qtdAdicoes_3</th>\n",
       "      <th>cat_qtdItens</th>\n",
       "      <th>dm_qtdItens_1</th>\n",
       "      <th>dm_qtdItens_2</th>\n",
       "      <th>dm_qtdItens_3</th>\n",
       "      <th>cat_valorCIF</th>\n",
       "      <th>dm_valorCIF_1</th>\n",
       "      <th>dm_valorCIF_2</th>\n",
       "      <th>dm_valorCIF_3</th>\n",
       "      <th>dm_valorCIF_4</th>\n",
       "    </tr>\n",
       "  </thead>\n",
       "  <tbody>\n",
       "    <tr>\n",
       "      <th>10</th>\n",
       "      <td>True</td>\n",
       "      <td>CONSUMO</td>\n",
       "      <td>10ª RF</td>\n",
       "      <td>RS</td>\n",
       "      <td>PAIS_OUTROS</td>\n",
       "      <td>AEREA</td>\n",
       "      <td>0</td>\n",
       "      <td>1</td>\n",
       "      <td>1</td>\n",
       "      <td>795.59</td>\n",
       "      <td>...</td>\n",
       "      <td>0</td>\n",
       "      <td>1</td>\n",
       "      <td>1</td>\n",
       "      <td>0</td>\n",
       "      <td>0</td>\n",
       "      <td>1</td>\n",
       "      <td>1</td>\n",
       "      <td>0</td>\n",
       "      <td>0</td>\n",
       "      <td>0</td>\n",
       "    </tr>\n",
       "    <tr>\n",
       "      <th>35</th>\n",
       "      <td>True</td>\n",
       "      <td>REGIMES_OUTROS</td>\n",
       "      <td>10ª RF</td>\n",
       "      <td>RS</td>\n",
       "      <td>PAIS_OUTROS</td>\n",
       "      <td>RODOVIARIA</td>\n",
       "      <td>0</td>\n",
       "      <td>1</td>\n",
       "      <td>1</td>\n",
       "      <td>1348.08</td>\n",
       "      <td>...</td>\n",
       "      <td>0</td>\n",
       "      <td>1</td>\n",
       "      <td>1</td>\n",
       "      <td>0</td>\n",
       "      <td>0</td>\n",
       "      <td>1</td>\n",
       "      <td>1</td>\n",
       "      <td>0</td>\n",
       "      <td>0</td>\n",
       "      <td>0</td>\n",
       "    </tr>\n",
       "    <tr>\n",
       "      <th>72</th>\n",
       "      <td>True</td>\n",
       "      <td>CONSUMO</td>\n",
       "      <td>10ª RF</td>\n",
       "      <td>RS</td>\n",
       "      <td>ITALIA</td>\n",
       "      <td>AEREA</td>\n",
       "      <td>1</td>\n",
       "      <td>2</td>\n",
       "      <td>2</td>\n",
       "      <td>1946.70</td>\n",
       "      <td>...</td>\n",
       "      <td>0</td>\n",
       "      <td>1</td>\n",
       "      <td>1</td>\n",
       "      <td>0</td>\n",
       "      <td>0</td>\n",
       "      <td>1</td>\n",
       "      <td>1</td>\n",
       "      <td>0</td>\n",
       "      <td>0</td>\n",
       "      <td>0</td>\n",
       "    </tr>\n",
       "    <tr>\n",
       "      <th>81</th>\n",
       "      <td>True</td>\n",
       "      <td>CONSUMO</td>\n",
       "      <td>10ª RF</td>\n",
       "      <td>RS</td>\n",
       "      <td>PAIS_OUTROS</td>\n",
       "      <td>AEREA</td>\n",
       "      <td>1</td>\n",
       "      <td>4</td>\n",
       "      <td>4</td>\n",
       "      <td>2192.18</td>\n",
       "      <td>...</td>\n",
       "      <td>0</td>\n",
       "      <td>2</td>\n",
       "      <td>0</td>\n",
       "      <td>1</td>\n",
       "      <td>0</td>\n",
       "      <td>1</td>\n",
       "      <td>1</td>\n",
       "      <td>0</td>\n",
       "      <td>0</td>\n",
       "      <td>0</td>\n",
       "    </tr>\n",
       "    <tr>\n",
       "      <th>95</th>\n",
       "      <td>True</td>\n",
       "      <td>REGIMES_OUTROS</td>\n",
       "      <td>10ª RF</td>\n",
       "      <td>RS</td>\n",
       "      <td>CHINA</td>\n",
       "      <td>MARITIMA</td>\n",
       "      <td>1</td>\n",
       "      <td>1</td>\n",
       "      <td>1</td>\n",
       "      <td>2556.43</td>\n",
       "      <td>...</td>\n",
       "      <td>0</td>\n",
       "      <td>1</td>\n",
       "      <td>1</td>\n",
       "      <td>0</td>\n",
       "      <td>0</td>\n",
       "      <td>1</td>\n",
       "      <td>1</td>\n",
       "      <td>0</td>\n",
       "      <td>0</td>\n",
       "      <td>0</td>\n",
       "    </tr>\n",
       "  </tbody>\n",
       "</table>\n",
       "<p>5 rows × 36 columns</p>\n",
       "</div>"
      ],
      "text/plain": [
       "    impPropria          tipoDI rfDespacho ufDespacho paisProcedencia  \\\n",
       "10        True         CONSUMO     10ª RF         RS     PAIS_OUTROS   \n",
       "35        True  REGIMES_OUTROS     10ª RF         RS     PAIS_OUTROS   \n",
       "72        True         CONSUMO     10ª RF         RS          ITALIA   \n",
       "81        True         CONSUMO     10ª RF         RS     PAIS_OUTROS   \n",
       "95        True  REGIMES_OUTROS     10ª RF         RS           CHINA   \n",
       "\n",
       "   viaTransporte  retificacao  qtdAdicoes  qtdItens  valorCIF  ...  \\\n",
       "10         AEREA            0           1         1    795.59  ...   \n",
       "35    RODOVIARIA            0           1         1   1348.08  ...   \n",
       "72         AEREA            1           2         2   1946.70  ...   \n",
       "81         AEREA            1           4         4   2192.18  ...   \n",
       "95      MARITIMA            1           1         1   2556.43  ...   \n",
       "\n",
       "    dm_qtdAdicoes_3  cat_qtdItens  dm_qtdItens_1  dm_qtdItens_2  \\\n",
       "10                0             1              1              0   \n",
       "35                0             1              1              0   \n",
       "72                0             1              1              0   \n",
       "81                0             2              0              1   \n",
       "95                0             1              1              0   \n",
       "\n",
       "    dm_qtdItens_3  cat_valorCIF  dm_valorCIF_1  dm_valorCIF_2  dm_valorCIF_3  \\\n",
       "10              0             1              1              0              0   \n",
       "35              0             1              1              0              0   \n",
       "72              0             1              1              0              0   \n",
       "81              0             1              1              0              0   \n",
       "95              0             1              1              0              0   \n",
       "\n",
       "    dm_valorCIF_4  \n",
       "10              0  \n",
       "35              0  \n",
       "72              0  \n",
       "81              0  \n",
       "95              0  \n",
       "\n",
       "[5 rows x 36 columns]"
      ]
     },
     "execution_count": 45,
     "metadata": {},
     "output_type": "execute_result"
    }
   ],
   "source": [
    "# Criando variáveis dummies para a coluna valorCIF\n",
    "dummies = pd.get_dummies(df_diSelecionadas['cat_valorCIF'], prefix = 'dm_valorCIF') # drop_first = True\n",
    "df_diSelecionadas = pd.concat([df_diSelecionadas, dummies], axis = 1)\n",
    "df_diSelecionadas.head()"
   ]
  },
  {
   "cell_type": "code",
   "execution_count": 46,
   "metadata": {},
   "outputs": [
    {
     "data": {
      "text/plain": [
       "4    538\n",
       "2    420\n",
       "3    351\n",
       "1    350\n",
       "Name: cat_valorCIF, dtype: int64"
      ]
     },
     "execution_count": 46,
     "metadata": {},
     "output_type": "execute_result"
    }
   ],
   "source": [
    "df_diSelecionadas['cat_valorCIF'].value_counts()"
   ]
  },
  {
   "cell_type": "code",
   "execution_count": 47,
   "metadata": {},
   "outputs": [
    {
     "data": {
      "text/plain": [
       "0    1309\n",
       "1     350\n",
       "Name: dm_valorCIF_1, dtype: int64"
      ]
     },
     "execution_count": 47,
     "metadata": {},
     "output_type": "execute_result"
    }
   ],
   "source": [
    "df_diSelecionadas['dm_valorCIF_1'].value_counts()"
   ]
  },
  {
   "cell_type": "code",
   "execution_count": 48,
   "metadata": {},
   "outputs": [
    {
     "data": {
      "text/plain": [
       "0    1239\n",
       "1     420\n",
       "Name: dm_valorCIF_2, dtype: int64"
      ]
     },
     "execution_count": 48,
     "metadata": {},
     "output_type": "execute_result"
    }
   ],
   "source": [
    "df_diSelecionadas['dm_valorCIF_2'].value_counts()"
   ]
  },
  {
   "cell_type": "code",
   "execution_count": 49,
   "metadata": {},
   "outputs": [
    {
     "data": {
      "text/plain": [
       "0    1308\n",
       "1     351\n",
       "Name: dm_valorCIF_3, dtype: int64"
      ]
     },
     "execution_count": 49,
     "metadata": {},
     "output_type": "execute_result"
    }
   ],
   "source": [
    "df_diSelecionadas['dm_valorCIF_3'].value_counts()"
   ]
  },
  {
   "cell_type": "code",
   "execution_count": 50,
   "metadata": {},
   "outputs": [
    {
     "data": {
      "text/plain": [
       "0    1121\n",
       "1     538\n",
       "Name: dm_valorCIF_4, dtype: int64"
      ]
     },
     "execution_count": 50,
     "metadata": {},
     "output_type": "execute_result"
    }
   ],
   "source": [
    "df_diSelecionadas['dm_valorCIF_4'].value_counts()"
   ]
  },
  {
   "cell_type": "code",
   "execution_count": 51,
   "metadata": {},
   "outputs": [
    {
     "data": {
      "text/plain": [
       "count    1.659000e+03\n",
       "mean     9.538453e+04\n",
       "std      2.417594e+05\n",
       "min      0.000000e+00\n",
       "25%      1.126838e+04\n",
       "50%      3.766314e+04\n",
       "75%      9.498598e+04\n",
       "max      5.107820e+06\n",
       "Name: valorTributos, dtype: float64"
      ]
     },
     "execution_count": 51,
     "metadata": {},
     "output_type": "execute_result"
    }
   ],
   "source": [
    "# Verificando a distribuição da variável valorTributos\n",
    "df_diSelecionadas['valorTributos'].describe()"
   ]
  },
  {
   "cell_type": "code",
   "execution_count": 52,
   "metadata": {},
   "outputs": [
    {
     "data": {
      "text/plain": [
       "array(['1', '2', '3', '4'], dtype=object)"
      ]
     },
     "execution_count": 52,
     "metadata": {},
     "output_type": "execute_result"
    }
   ],
   "source": [
    "# Transformando a variável valorTributos em categórica\n",
    "\n",
    "# Conforme a distribuição da variável e as regras de negócio, optou-se pelas seguintes categorias:\n",
    "\n",
    "#    1 - Valor de tributos recolhidos até R$ 15.000,00\n",
    "#    2 - Valor de tributos recolhidos entre R$ 15.000,01 e R$ 50.000,00\n",
    "#    3 - Valor de tributos recolhidos entre R$ 50.000,01 e R$ 100.000,00\n",
    "#    4 - Valor de tributos recolhidos acima de R$ 100.000,01\n",
    "\n",
    "def transf_valorTributos(x):\n",
    "    if x > 100000:\n",
    "        x = 4\n",
    "    elif x > 50000:\n",
    "        x = 3\n",
    "    elif x > 15000:\n",
    "        x = 2\n",
    "    else:\n",
    "        x = 1\n",
    "    return x\n",
    "\n",
    "df_diSelecionadas['cat_valorTributos'] = df_diSelecionadas['valorTributos'].apply(lambda x: str(transf_valorTributos(x)))\n",
    "df_diSelecionadas['cat_valorTributos'].unique()"
   ]
  },
  {
   "cell_type": "code",
   "execution_count": 53,
   "metadata": {},
   "outputs": [
    {
     "data": {
      "text/html": [
       "<div>\n",
       "<style scoped>\n",
       "    .dataframe tbody tr th:only-of-type {\n",
       "        vertical-align: middle;\n",
       "    }\n",
       "\n",
       "    .dataframe tbody tr th {\n",
       "        vertical-align: top;\n",
       "    }\n",
       "\n",
       "    .dataframe thead th {\n",
       "        text-align: right;\n",
       "    }\n",
       "</style>\n",
       "<table border=\"1\" class=\"dataframe\">\n",
       "  <thead>\n",
       "    <tr style=\"text-align: right;\">\n",
       "      <th></th>\n",
       "      <th>impPropria</th>\n",
       "      <th>tipoDI</th>\n",
       "      <th>rfDespacho</th>\n",
       "      <th>ufDespacho</th>\n",
       "      <th>paisProcedencia</th>\n",
       "      <th>viaTransporte</th>\n",
       "      <th>retificacao</th>\n",
       "      <th>qtdAdicoes</th>\n",
       "      <th>qtdItens</th>\n",
       "      <th>valorCIF</th>\n",
       "      <th>...</th>\n",
       "      <th>cat_valorCIF</th>\n",
       "      <th>dm_valorCIF_1</th>\n",
       "      <th>dm_valorCIF_2</th>\n",
       "      <th>dm_valorCIF_3</th>\n",
       "      <th>dm_valorCIF_4</th>\n",
       "      <th>cat_valorTributos</th>\n",
       "      <th>dm_valorTributos_1</th>\n",
       "      <th>dm_valorTributos_2</th>\n",
       "      <th>dm_valorTributos_3</th>\n",
       "      <th>dm_valorTributos_4</th>\n",
       "    </tr>\n",
       "  </thead>\n",
       "  <tbody>\n",
       "    <tr>\n",
       "      <th>10</th>\n",
       "      <td>True</td>\n",
       "      <td>CONSUMO</td>\n",
       "      <td>10ª RF</td>\n",
       "      <td>RS</td>\n",
       "      <td>PAIS_OUTROS</td>\n",
       "      <td>AEREA</td>\n",
       "      <td>0</td>\n",
       "      <td>1</td>\n",
       "      <td>1</td>\n",
       "      <td>795.59</td>\n",
       "      <td>...</td>\n",
       "      <td>1</td>\n",
       "      <td>1</td>\n",
       "      <td>0</td>\n",
       "      <td>0</td>\n",
       "      <td>0</td>\n",
       "      <td>1</td>\n",
       "      <td>1</td>\n",
       "      <td>0</td>\n",
       "      <td>0</td>\n",
       "      <td>0</td>\n",
       "    </tr>\n",
       "    <tr>\n",
       "      <th>35</th>\n",
       "      <td>True</td>\n",
       "      <td>REGIMES_OUTROS</td>\n",
       "      <td>10ª RF</td>\n",
       "      <td>RS</td>\n",
       "      <td>PAIS_OUTROS</td>\n",
       "      <td>RODOVIARIA</td>\n",
       "      <td>0</td>\n",
       "      <td>1</td>\n",
       "      <td>1</td>\n",
       "      <td>1348.08</td>\n",
       "      <td>...</td>\n",
       "      <td>1</td>\n",
       "      <td>1</td>\n",
       "      <td>0</td>\n",
       "      <td>0</td>\n",
       "      <td>0</td>\n",
       "      <td>1</td>\n",
       "      <td>1</td>\n",
       "      <td>0</td>\n",
       "      <td>0</td>\n",
       "      <td>0</td>\n",
       "    </tr>\n",
       "    <tr>\n",
       "      <th>72</th>\n",
       "      <td>True</td>\n",
       "      <td>CONSUMO</td>\n",
       "      <td>10ª RF</td>\n",
       "      <td>RS</td>\n",
       "      <td>ITALIA</td>\n",
       "      <td>AEREA</td>\n",
       "      <td>1</td>\n",
       "      <td>2</td>\n",
       "      <td>2</td>\n",
       "      <td>1946.70</td>\n",
       "      <td>...</td>\n",
       "      <td>1</td>\n",
       "      <td>1</td>\n",
       "      <td>0</td>\n",
       "      <td>0</td>\n",
       "      <td>0</td>\n",
       "      <td>1</td>\n",
       "      <td>1</td>\n",
       "      <td>0</td>\n",
       "      <td>0</td>\n",
       "      <td>0</td>\n",
       "    </tr>\n",
       "    <tr>\n",
       "      <th>81</th>\n",
       "      <td>True</td>\n",
       "      <td>CONSUMO</td>\n",
       "      <td>10ª RF</td>\n",
       "      <td>RS</td>\n",
       "      <td>PAIS_OUTROS</td>\n",
       "      <td>AEREA</td>\n",
       "      <td>1</td>\n",
       "      <td>4</td>\n",
       "      <td>4</td>\n",
       "      <td>2192.18</td>\n",
       "      <td>...</td>\n",
       "      <td>1</td>\n",
       "      <td>1</td>\n",
       "      <td>0</td>\n",
       "      <td>0</td>\n",
       "      <td>0</td>\n",
       "      <td>1</td>\n",
       "      <td>1</td>\n",
       "      <td>0</td>\n",
       "      <td>0</td>\n",
       "      <td>0</td>\n",
       "    </tr>\n",
       "    <tr>\n",
       "      <th>95</th>\n",
       "      <td>True</td>\n",
       "      <td>REGIMES_OUTROS</td>\n",
       "      <td>10ª RF</td>\n",
       "      <td>RS</td>\n",
       "      <td>CHINA</td>\n",
       "      <td>MARITIMA</td>\n",
       "      <td>1</td>\n",
       "      <td>1</td>\n",
       "      <td>1</td>\n",
       "      <td>2556.43</td>\n",
       "      <td>...</td>\n",
       "      <td>1</td>\n",
       "      <td>1</td>\n",
       "      <td>0</td>\n",
       "      <td>0</td>\n",
       "      <td>0</td>\n",
       "      <td>1</td>\n",
       "      <td>1</td>\n",
       "      <td>0</td>\n",
       "      <td>0</td>\n",
       "      <td>0</td>\n",
       "    </tr>\n",
       "  </tbody>\n",
       "</table>\n",
       "<p>5 rows × 41 columns</p>\n",
       "</div>"
      ],
      "text/plain": [
       "    impPropria          tipoDI rfDespacho ufDespacho paisProcedencia  \\\n",
       "10        True         CONSUMO     10ª RF         RS     PAIS_OUTROS   \n",
       "35        True  REGIMES_OUTROS     10ª RF         RS     PAIS_OUTROS   \n",
       "72        True         CONSUMO     10ª RF         RS          ITALIA   \n",
       "81        True         CONSUMO     10ª RF         RS     PAIS_OUTROS   \n",
       "95        True  REGIMES_OUTROS     10ª RF         RS           CHINA   \n",
       "\n",
       "   viaTransporte  retificacao  qtdAdicoes  qtdItens  valorCIF  ...  \\\n",
       "10         AEREA            0           1         1    795.59  ...   \n",
       "35    RODOVIARIA            0           1         1   1348.08  ...   \n",
       "72         AEREA            1           2         2   1946.70  ...   \n",
       "81         AEREA            1           4         4   2192.18  ...   \n",
       "95      MARITIMA            1           1         1   2556.43  ...   \n",
       "\n",
       "    cat_valorCIF  dm_valorCIF_1  dm_valorCIF_2  dm_valorCIF_3  dm_valorCIF_4  \\\n",
       "10             1              1              0              0              0   \n",
       "35             1              1              0              0              0   \n",
       "72             1              1              0              0              0   \n",
       "81             1              1              0              0              0   \n",
       "95             1              1              0              0              0   \n",
       "\n",
       "    cat_valorTributos  dm_valorTributos_1  dm_valorTributos_2  \\\n",
       "10                  1                   1                   0   \n",
       "35                  1                   1                   0   \n",
       "72                  1                   1                   0   \n",
       "81                  1                   1                   0   \n",
       "95                  1                   1                   0   \n",
       "\n",
       "    dm_valorTributos_3  dm_valorTributos_4  \n",
       "10                   0                   0  \n",
       "35                   0                   0  \n",
       "72                   0                   0  \n",
       "81                   0                   0  \n",
       "95                   0                   0  \n",
       "\n",
       "[5 rows x 41 columns]"
      ]
     },
     "execution_count": 53,
     "metadata": {},
     "output_type": "execute_result"
    }
   ],
   "source": [
    "# Criando variáveis dummies para a coluna valorTributos\n",
    "dummies = pd.get_dummies(df_diSelecionadas['cat_valorTributos'], prefix = 'dm_valorTributos') # drop_first = True\n",
    "df_diSelecionadas = pd.concat([df_diSelecionadas, dummies], axis = 1)\n",
    "df_diSelecionadas.head()"
   ]
  },
  {
   "cell_type": "code",
   "execution_count": 54,
   "metadata": {},
   "outputs": [
    {
     "data": {
      "text/plain": [
       "2    489\n",
       "1    487\n",
       "4    394\n",
       "3    289\n",
       "Name: cat_valorTributos, dtype: int64"
      ]
     },
     "execution_count": 54,
     "metadata": {},
     "output_type": "execute_result"
    }
   ],
   "source": [
    "df_diSelecionadas['cat_valorTributos'].value_counts()"
   ]
  },
  {
   "cell_type": "code",
   "execution_count": 55,
   "metadata": {},
   "outputs": [
    {
     "data": {
      "text/plain": [
       "0    1172\n",
       "1     487\n",
       "Name: dm_valorTributos_1, dtype: int64"
      ]
     },
     "execution_count": 55,
     "metadata": {},
     "output_type": "execute_result"
    }
   ],
   "source": [
    "df_diSelecionadas['dm_valorTributos_1'].value_counts()"
   ]
  },
  {
   "cell_type": "code",
   "execution_count": 56,
   "metadata": {},
   "outputs": [
    {
     "data": {
      "text/plain": [
       "0    1170\n",
       "1     489\n",
       "Name: dm_valorTributos_2, dtype: int64"
      ]
     },
     "execution_count": 56,
     "metadata": {},
     "output_type": "execute_result"
    }
   ],
   "source": [
    "df_diSelecionadas['dm_valorTributos_2'].value_counts()"
   ]
  },
  {
   "cell_type": "code",
   "execution_count": 57,
   "metadata": {},
   "outputs": [
    {
     "data": {
      "text/plain": [
       "0    1370\n",
       "1     289\n",
       "Name: dm_valorTributos_3, dtype: int64"
      ]
     },
     "execution_count": 57,
     "metadata": {},
     "output_type": "execute_result"
    }
   ],
   "source": [
    "df_diSelecionadas['dm_valorTributos_3'].value_counts()"
   ]
  },
  {
   "cell_type": "code",
   "execution_count": 58,
   "metadata": {},
   "outputs": [
    {
     "data": {
      "text/plain": [
       "0    1265\n",
       "1     394\n",
       "Name: dm_valorTributos_4, dtype: int64"
      ]
     },
     "execution_count": 58,
     "metadata": {},
     "output_type": "execute_result"
    }
   ],
   "source": [
    "df_diSelecionadas['dm_valorTributos_4'].value_counts()"
   ]
  },
  {
   "cell_type": "code",
   "execution_count": 59,
   "metadata": {},
   "outputs": [
    {
     "data": {
      "text/plain": [
       "Index(['impPropria', 'tipoDI', 'rfDespacho', 'ufDespacho', 'paisProcedencia',\n",
       "       'viaTransporte', 'retificacao', 'qtdAdicoes', 'qtdItens', 'valorCIF',\n",
       "       'valorTributos', 'le_impPropria', 'dm_CONSUMO', 'dm_REGIMES_OUTROS',\n",
       "       'dm_ALEMANHA', 'dm_ARGENTINA', 'dm_CHINA', 'dm_EUA', 'dm_ITALIA',\n",
       "       'dm_PAIS_OUTROS', 'dm_AEREA', 'dm_MARITIMA', 'dm_RODOVIARIA',\n",
       "       'cat_qtdAdicoes', 'dm_qtdAdicoes_1', 'dm_qtdAdicoes_2',\n",
       "       'dm_qtdAdicoes_3', 'cat_qtdItens', 'dm_qtdItens_1', 'dm_qtdItens_2',\n",
       "       'dm_qtdItens_3', 'cat_valorCIF', 'dm_valorCIF_1', 'dm_valorCIF_2',\n",
       "       'dm_valorCIF_3', 'dm_valorCIF_4', 'cat_valorTributos',\n",
       "       'dm_valorTributos_1', 'dm_valorTributos_2', 'dm_valorTributos_3',\n",
       "       'dm_valorTributos_4'],\n",
       "      dtype='object')"
      ]
     },
     "execution_count": 59,
     "metadata": {},
     "output_type": "execute_result"
    }
   ],
   "source": [
    "# Removendo as variáveis originais não categóricas e criando o dataframe df_catDI\n",
    "df_diSelecionadas.columns"
   ]
  },
  {
   "cell_type": "code",
   "execution_count": 60,
   "metadata": {},
   "outputs": [
    {
     "data": {
      "text/plain": [
       "Index(['retificacao', 'le_impPropria', 'dm_CONSUMO', 'dm_REGIMES_OUTROS',\n",
       "       'dm_ALEMANHA', 'dm_ARGENTINA', 'dm_CHINA', 'dm_EUA', 'dm_ITALIA',\n",
       "       'dm_PAIS_OUTROS', 'dm_AEREA', 'dm_MARITIMA', 'dm_RODOVIARIA',\n",
       "       'dm_qtdAdicoes_1', 'dm_qtdAdicoes_2', 'dm_qtdAdicoes_3',\n",
       "       'dm_qtdItens_1', 'dm_qtdItens_2', 'dm_qtdItens_3', 'dm_valorCIF_1',\n",
       "       'dm_valorCIF_2', 'dm_valorCIF_3', 'dm_valorCIF_4', 'dm_valorTributos_1',\n",
       "       'dm_valorTributos_2', 'dm_valorTributos_3', 'dm_valorTributos_4'],\n",
       "      dtype='object')"
      ]
     },
     "execution_count": 60,
     "metadata": {},
     "output_type": "execute_result"
    }
   ],
   "source": [
    "df_catDI = df_diSelecionadas.drop(columns=['impPropria', 'tipoDI', 'rfDespacho', 'ufDespacho', 'paisProcedencia',\n",
    "                                           'viaTransporte','qtdAdicoes', 'qtdItens', 'valorCIF', 'valorTributos',\n",
    "                                           'cat_qtdAdicoes', 'cat_qtdItens', 'cat_valorCIF', 'cat_valorTributos'])\n",
    "df_catDI.columns"
   ]
  },
  {
   "cell_type": "code",
   "execution_count": 61,
   "metadata": {},
   "outputs": [
    {
     "data": {
      "text/html": [
       "<div>\n",
       "<style scoped>\n",
       "    .dataframe tbody tr th:only-of-type {\n",
       "        vertical-align: middle;\n",
       "    }\n",
       "\n",
       "    .dataframe tbody tr th {\n",
       "        vertical-align: top;\n",
       "    }\n",
       "\n",
       "    .dataframe thead th {\n",
       "        text-align: right;\n",
       "    }\n",
       "</style>\n",
       "<table border=\"1\" class=\"dataframe\">\n",
       "  <thead>\n",
       "    <tr style=\"text-align: right;\">\n",
       "      <th></th>\n",
       "      <th>retificacao</th>\n",
       "      <th>le_impPropria</th>\n",
       "      <th>dm_CONSUMO</th>\n",
       "      <th>dm_REGIMES_OUTROS</th>\n",
       "      <th>dm_ALEMANHA</th>\n",
       "      <th>dm_ARGENTINA</th>\n",
       "      <th>dm_CHINA</th>\n",
       "      <th>dm_EUA</th>\n",
       "      <th>dm_ITALIA</th>\n",
       "      <th>dm_PAIS_OUTROS</th>\n",
       "      <th>...</th>\n",
       "      <th>dm_qtdItens_2</th>\n",
       "      <th>dm_qtdItens_3</th>\n",
       "      <th>dm_valorCIF_1</th>\n",
       "      <th>dm_valorCIF_2</th>\n",
       "      <th>dm_valorCIF_3</th>\n",
       "      <th>dm_valorCIF_4</th>\n",
       "      <th>dm_valorTributos_1</th>\n",
       "      <th>dm_valorTributos_2</th>\n",
       "      <th>dm_valorTributos_3</th>\n",
       "      <th>dm_valorTributos_4</th>\n",
       "    </tr>\n",
       "  </thead>\n",
       "  <tbody>\n",
       "    <tr>\n",
       "      <th>10</th>\n",
       "      <td>0</td>\n",
       "      <td>1</td>\n",
       "      <td>1</td>\n",
       "      <td>0</td>\n",
       "      <td>0</td>\n",
       "      <td>0</td>\n",
       "      <td>0</td>\n",
       "      <td>0</td>\n",
       "      <td>0</td>\n",
       "      <td>1</td>\n",
       "      <td>...</td>\n",
       "      <td>0</td>\n",
       "      <td>0</td>\n",
       "      <td>1</td>\n",
       "      <td>0</td>\n",
       "      <td>0</td>\n",
       "      <td>0</td>\n",
       "      <td>1</td>\n",
       "      <td>0</td>\n",
       "      <td>0</td>\n",
       "      <td>0</td>\n",
       "    </tr>\n",
       "    <tr>\n",
       "      <th>35</th>\n",
       "      <td>0</td>\n",
       "      <td>1</td>\n",
       "      <td>0</td>\n",
       "      <td>1</td>\n",
       "      <td>0</td>\n",
       "      <td>0</td>\n",
       "      <td>0</td>\n",
       "      <td>0</td>\n",
       "      <td>0</td>\n",
       "      <td>1</td>\n",
       "      <td>...</td>\n",
       "      <td>0</td>\n",
       "      <td>0</td>\n",
       "      <td>1</td>\n",
       "      <td>0</td>\n",
       "      <td>0</td>\n",
       "      <td>0</td>\n",
       "      <td>1</td>\n",
       "      <td>0</td>\n",
       "      <td>0</td>\n",
       "      <td>0</td>\n",
       "    </tr>\n",
       "    <tr>\n",
       "      <th>72</th>\n",
       "      <td>1</td>\n",
       "      <td>1</td>\n",
       "      <td>1</td>\n",
       "      <td>0</td>\n",
       "      <td>0</td>\n",
       "      <td>0</td>\n",
       "      <td>0</td>\n",
       "      <td>0</td>\n",
       "      <td>1</td>\n",
       "      <td>0</td>\n",
       "      <td>...</td>\n",
       "      <td>0</td>\n",
       "      <td>0</td>\n",
       "      <td>1</td>\n",
       "      <td>0</td>\n",
       "      <td>0</td>\n",
       "      <td>0</td>\n",
       "      <td>1</td>\n",
       "      <td>0</td>\n",
       "      <td>0</td>\n",
       "      <td>0</td>\n",
       "    </tr>\n",
       "    <tr>\n",
       "      <th>81</th>\n",
       "      <td>1</td>\n",
       "      <td>1</td>\n",
       "      <td>1</td>\n",
       "      <td>0</td>\n",
       "      <td>0</td>\n",
       "      <td>0</td>\n",
       "      <td>0</td>\n",
       "      <td>0</td>\n",
       "      <td>0</td>\n",
       "      <td>1</td>\n",
       "      <td>...</td>\n",
       "      <td>1</td>\n",
       "      <td>0</td>\n",
       "      <td>1</td>\n",
       "      <td>0</td>\n",
       "      <td>0</td>\n",
       "      <td>0</td>\n",
       "      <td>1</td>\n",
       "      <td>0</td>\n",
       "      <td>0</td>\n",
       "      <td>0</td>\n",
       "    </tr>\n",
       "    <tr>\n",
       "      <th>95</th>\n",
       "      <td>1</td>\n",
       "      <td>1</td>\n",
       "      <td>0</td>\n",
       "      <td>1</td>\n",
       "      <td>0</td>\n",
       "      <td>0</td>\n",
       "      <td>1</td>\n",
       "      <td>0</td>\n",
       "      <td>0</td>\n",
       "      <td>0</td>\n",
       "      <td>...</td>\n",
       "      <td>0</td>\n",
       "      <td>0</td>\n",
       "      <td>1</td>\n",
       "      <td>0</td>\n",
       "      <td>0</td>\n",
       "      <td>0</td>\n",
       "      <td>1</td>\n",
       "      <td>0</td>\n",
       "      <td>0</td>\n",
       "      <td>0</td>\n",
       "    </tr>\n",
       "  </tbody>\n",
       "</table>\n",
       "<p>5 rows × 27 columns</p>\n",
       "</div>"
      ],
      "text/plain": [
       "    retificacao  le_impPropria  dm_CONSUMO  dm_REGIMES_OUTROS  dm_ALEMANHA  \\\n",
       "10            0              1           1                  0            0   \n",
       "35            0              1           0                  1            0   \n",
       "72            1              1           1                  0            0   \n",
       "81            1              1           1                  0            0   \n",
       "95            1              1           0                  1            0   \n",
       "\n",
       "    dm_ARGENTINA  dm_CHINA  dm_EUA  dm_ITALIA  dm_PAIS_OUTROS  ...  \\\n",
       "10             0         0       0          0               1  ...   \n",
       "35             0         0       0          0               1  ...   \n",
       "72             0         0       0          1               0  ...   \n",
       "81             0         0       0          0               1  ...   \n",
       "95             0         1       0          0               0  ...   \n",
       "\n",
       "    dm_qtdItens_2  dm_qtdItens_3  dm_valorCIF_1  dm_valorCIF_2  dm_valorCIF_3  \\\n",
       "10              0              0              1              0              0   \n",
       "35              0              0              1              0              0   \n",
       "72              0              0              1              0              0   \n",
       "81              1              0              1              0              0   \n",
       "95              0              0              1              0              0   \n",
       "\n",
       "    dm_valorCIF_4  dm_valorTributos_1  dm_valorTributos_2  dm_valorTributos_3  \\\n",
       "10              0                   1                   0                   0   \n",
       "35              0                   1                   0                   0   \n",
       "72              0                   1                   0                   0   \n",
       "81              0                   1                   0                   0   \n",
       "95              0                   1                   0                   0   \n",
       "\n",
       "    dm_valorTributos_4  \n",
       "10                   0  \n",
       "35                   0  \n",
       "72                   0  \n",
       "81                   0  \n",
       "95                   0  \n",
       "\n",
       "[5 rows x 27 columns]"
      ]
     },
     "execution_count": 61,
     "metadata": {},
     "output_type": "execute_result"
    }
   ],
   "source": [
    "df_catDI.head()"
   ]
  },
  {
   "cell_type": "markdown",
   "metadata": {},
   "source": [
    "## Analisando e explorando os dados (Feature Engineering)"
   ]
  },
  {
   "cell_type": "code",
   "execution_count": 62,
   "metadata": {},
   "outputs": [
    {
     "data": {
      "text/plain": [
       "retificacao           int64\n",
       "le_impPropria         int64\n",
       "dm_CONSUMO            uint8\n",
       "dm_REGIMES_OUTROS     uint8\n",
       "dm_ALEMANHA           uint8\n",
       "dm_ARGENTINA          uint8\n",
       "dm_CHINA              uint8\n",
       "dm_EUA                uint8\n",
       "dm_ITALIA             uint8\n",
       "dm_PAIS_OUTROS        uint8\n",
       "dm_AEREA              uint8\n",
       "dm_MARITIMA           uint8\n",
       "dm_RODOVIARIA         uint8\n",
       "dm_qtdAdicoes_1       uint8\n",
       "dm_qtdAdicoes_2       uint8\n",
       "dm_qtdAdicoes_3       uint8\n",
       "dm_qtdItens_1         uint8\n",
       "dm_qtdItens_2         uint8\n",
       "dm_qtdItens_3         uint8\n",
       "dm_valorCIF_1         uint8\n",
       "dm_valorCIF_2         uint8\n",
       "dm_valorCIF_3         uint8\n",
       "dm_valorCIF_4         uint8\n",
       "dm_valorTributos_1    uint8\n",
       "dm_valorTributos_2    uint8\n",
       "dm_valorTributos_3    uint8\n",
       "dm_valorTributos_4    uint8\n",
       "dtype: object"
      ]
     },
     "execution_count": 62,
     "metadata": {},
     "output_type": "execute_result"
    }
   ],
   "source": [
    "# Após as transformações realizadas, todas as variáveis tornaram-se categóricas.\n",
    "df_catDI.dtypes"
   ]
  },
  {
   "cell_type": "code",
   "execution_count": 63,
   "metadata": {},
   "outputs": [
    {
     "data": {
      "image/png": "[encoded data removed]",
      "text/plain": [
       "<Figure size 360x360 with 2 Axes>"
      ]
     },
     "metadata": {
      "needs_background": "light"
     },
     "output_type": "display_data"
    }
   ],
   "source": [
    "# Plotando a variável le_impPropria\n",
    "sns.catplot(data=df_catDI, x='le_impPropria', col='retificacao', kind=\"count\", height=5, aspect=0.5);"
   ]
  },
  {
   "cell_type": "code",
   "execution_count": 64,
   "metadata": {},
   "outputs": [
    {
     "data": {
      "image/png": "[encoded data removed]",
      "text/plain": [
       "<Figure size 360x360 with 2 Axes>"
      ]
     },
     "metadata": {
      "needs_background": "light"
     },
     "output_type": "display_data"
    }
   ],
   "source": [
    "# Plotando a variável dm_CONSUMO\n",
    "sns.catplot(data=df_catDI, x='dm_CONSUMO', col='retificacao', kind=\"count\", height=5, aspect=0.5);"
   ]
  },
  {
   "cell_type": "code",
   "execution_count": 65,
   "metadata": {},
   "outputs": [
    {
     "data": {
      "image/png": "[encoded data removed]",
      "text/plain": [
       "<Figure size 360x360 with 2 Axes>"
      ]
     },
     "metadata": {
      "needs_background": "light"
     },
     "output_type": "display_data"
    }
   ],
   "source": [
    "# Plotando a variável dm_REGIMES_OUTROS\n",
    "sns.catplot(data=df_catDI, x='dm_REGIMES_OUTROS', col='retificacao', kind=\"count\", height=5, aspect=0.5);"
   ]
  },
  {
   "cell_type": "code",
   "execution_count": 66,
   "metadata": {},
   "outputs": [
    {
     "data": {
      "image/png": "[encoded data removed]",
      "text/plain": [
       "<Figure size 360x360 with 2 Axes>"
      ]
     },
     "metadata": {
      "needs_background": "light"
     },
     "output_type": "display_data"
    }
   ],
   "source": [
    "# Plotando a variável dm_CHINA\n",
    "sns.catplot(data=df_catDI, x='dm_CHINA', col='retificacao', kind=\"count\", height=5, aspect=0.5);\n",
    "# dm_ALEMANHA, dm_ARGENTINA, dm_ESPANHA, dm_EUA, dm_HOLANDA, dm_HONG_KONG, dm_INDIA, dm_ITALIA, dm_PAIS_OUTROS"
   ]
  },
  {
   "cell_type": "code",
   "execution_count": 67,
   "metadata": {},
   "outputs": [
    {
     "data": {
      "image/png": "[encoded data removed]",
      "text/plain": [
       "<Figure size 360x360 with 2 Axes>"
      ]
     },
     "metadata": {
      "needs_background": "light"
     },
     "output_type": "display_data"
    }
   ],
   "source": [
    "# Plotando a variável dm_AEREA\n",
    "sns.catplot(data=df_catDI, x='dm_AEREA', col='retificacao', kind=\"count\", height=5, aspect=0.5);"
   ]
  },
  {
   "cell_type": "code",
   "execution_count": 68,
   "metadata": {},
   "outputs": [
    {
     "data": {
      "image/png": "[encoded data removed]",
      "text/plain": [
       "<Figure size 360x360 with 2 Axes>"
      ]
     },
     "metadata": {
      "needs_background": "light"
     },
     "output_type": "display_data"
    }
   ],
   "source": [
    "# Plotando a variável dm_MARITIMA\n",
    "sns.catplot(data=df_catDI, x='dm_MARITIMA', col='retificacao', kind=\"count\", height=5, aspect=0.5);"
   ]
  },
  {
   "cell_type": "code",
   "execution_count": 69,
   "metadata": {},
   "outputs": [
    {
     "data": {
      "image/png": "[encoded data removed]",
      "text/plain": [
       "<Figure size 360x360 with 2 Axes>"
      ]
     },
     "metadata": {
      "needs_background": "light"
     },
     "output_type": "display_data"
    }
   ],
   "source": [
    "# Plotando a variável dm_RODOVIARIA\n",
    "sns.catplot(data=df_catDI, x='dm_RODOVIARIA', col='retificacao', kind=\"count\", height=5, aspect=0.5);"
   ]
  },
  {
   "cell_type": "code",
   "execution_count": 70,
   "metadata": {},
   "outputs": [
    {
     "data": {
      "image/png": "[encoded data removed]",
      "text/plain": [
       "<Figure size 360x360 with 2 Axes>"
      ]
     },
     "metadata": {
      "needs_background": "light"
     },
     "output_type": "display_data"
    }
   ],
   "source": [
    "# Plotando a variável cat_qtdAdicoes do dataframe df_diSelecionadas\n",
    "sns.catplot(data=df_diSelecionadas, x='cat_qtdAdicoes', col='retificacao', kind=\"count\", height=5, aspect=0.5);"
   ]
  },
  {
   "cell_type": "code",
   "execution_count": 71,
   "metadata": {},
   "outputs": [
    {
     "data": {
      "image/png": "[encoded data removed]",
      "text/plain": [
       "<Figure size 360x360 with 2 Axes>"
      ]
     },
     "metadata": {
      "needs_background": "light"
     },
     "output_type": "display_data"
    }
   ],
   "source": [
    "# Plotando a variável cat_qtdItens do dataframe df_diSelecionadas\n",
    "sns.catplot(data=df_diSelecionadas, x='cat_qtdItens', col='retificacao', kind=\"count\", height=5, aspect=0.5);"
   ]
  },
  {
   "cell_type": "code",
   "execution_count": 72,
   "metadata": {},
   "outputs": [
    {
     "data": {
      "image/png": "[encoded data removed]",
      "text/plain": [
       "<Figure size 360x360 with 2 Axes>"
      ]
     },
     "metadata": {
      "needs_background": "light"
     },
     "output_type": "display_data"
    }
   ],
   "source": [
    "# Plotando a variável cat_valorCIF do dataframe df_diSelecionadas\n",
    "sns.catplot(data=df_diSelecionadas, x='cat_valorCIF', col='retificacao', kind=\"count\", height=5, aspect=0.5);"
   ]
  },
  {
   "cell_type": "code",
   "execution_count": 73,
   "metadata": {},
   "outputs": [
    {
     "data": {
      "image/png": "[encoded data removed]",
      "text/plain": [
       "<Figure size 360x360 with 2 Axes>"
      ]
     },
     "metadata": {
      "needs_background": "light"
     },
     "output_type": "display_data"
    }
   ],
   "source": [
    "# Plotando a variável cat_valorTributos do dataframe df_diSelecionadas\n",
    "sns.catplot(data=df_diSelecionadas, x='cat_valorTributos', col='retificacao', kind=\"count\", height=5, aspect=0.5);"
   ]
  },
  {
   "cell_type": "code",
   "execution_count": 74,
   "metadata": {},
   "outputs": [
    {
     "data": {
      "text/plain": [
       "1    0.725738\n",
       "0    0.274262\n",
       "Name: retificacao, dtype: float64"
      ]
     },
     "execution_count": 74,
     "metadata": {},
     "output_type": "execute_result"
    }
   ],
   "source": [
    "# Verificando se a variável retificacao (target) está balanceada\n",
    "df_catDI['retificacao'].value_counts()/df_catDI.shape[0]"
   ]
  },
  {
   "cell_type": "code",
   "execution_count": 75,
   "metadata": {},
   "outputs": [
    {
     "data": {
      "image/png": "[encoded data removed]",
      "text/plain": [
       "<Figure size 432x288 with 1 Axes>"
      ]
     },
     "metadata": {
      "needs_background": "light"
     },
     "output_type": "display_data"
    }
   ],
   "source": [
    "# Plotando o gráfico da variável retificacao (target)\n",
    "sns.countplot(data=df_catDI, x='retificacao');"
   ]
  },
  {
   "cell_type": "code",
   "execution_count": 76,
   "metadata": {},
   "outputs": [
    {
     "data": {
      "text/html": [
       "<div>\n",
       "<style scoped>\n",
       "    .dataframe tbody tr th:only-of-type {\n",
       "        vertical-align: middle;\n",
       "    }\n",
       "\n",
       "    .dataframe tbody tr th {\n",
       "        vertical-align: top;\n",
       "    }\n",
       "\n",
       "    .dataframe thead th {\n",
       "        text-align: right;\n",
       "    }\n",
       "</style>\n",
       "<table border=\"1\" class=\"dataframe\">\n",
       "  <thead>\n",
       "    <tr style=\"text-align: right;\">\n",
       "      <th></th>\n",
       "      <th>le_impPropria</th>\n",
       "      <th>dm_CONSUMO</th>\n",
       "      <th>dm_REGIMES_OUTROS</th>\n",
       "      <th>dm_ALEMANHA</th>\n",
       "      <th>dm_ARGENTINA</th>\n",
       "      <th>dm_CHINA</th>\n",
       "      <th>dm_EUA</th>\n",
       "      <th>dm_ITALIA</th>\n",
       "      <th>dm_PAIS_OUTROS</th>\n",
       "      <th>dm_AEREA</th>\n",
       "      <th>...</th>\n",
       "      <th>dm_qtdItens_2</th>\n",
       "      <th>dm_qtdItens_3</th>\n",
       "      <th>dm_valorCIF_1</th>\n",
       "      <th>dm_valorCIF_2</th>\n",
       "      <th>dm_valorCIF_3</th>\n",
       "      <th>dm_valorCIF_4</th>\n",
       "      <th>dm_valorTributos_1</th>\n",
       "      <th>dm_valorTributos_2</th>\n",
       "      <th>dm_valorTributos_3</th>\n",
       "      <th>dm_valorTributos_4</th>\n",
       "    </tr>\n",
       "  </thead>\n",
       "  <tbody>\n",
       "    <tr>\n",
       "      <th>10</th>\n",
       "      <td>1</td>\n",
       "      <td>1</td>\n",
       "      <td>0</td>\n",
       "      <td>0</td>\n",
       "      <td>0</td>\n",
       "      <td>0</td>\n",
       "      <td>0</td>\n",
       "      <td>0</td>\n",
       "      <td>1</td>\n",
       "      <td>1</td>\n",
       "      <td>...</td>\n",
       "      <td>0</td>\n",
       "      <td>0</td>\n",
       "      <td>1</td>\n",
       "      <td>0</td>\n",
       "      <td>0</td>\n",
       "      <td>0</td>\n",
       "      <td>1</td>\n",
       "      <td>0</td>\n",
       "      <td>0</td>\n",
       "      <td>0</td>\n",
       "    </tr>\n",
       "    <tr>\n",
       "      <th>35</th>\n",
       "      <td>1</td>\n",
       "      <td>0</td>\n",
       "      <td>1</td>\n",
       "      <td>0</td>\n",
       "      <td>0</td>\n",
       "      <td>0</td>\n",
       "      <td>0</td>\n",
       "      <td>0</td>\n",
       "      <td>1</td>\n",
       "      <td>0</td>\n",
       "      <td>...</td>\n",
       "      <td>0</td>\n",
       "      <td>0</td>\n",
       "      <td>1</td>\n",
       "      <td>0</td>\n",
       "      <td>0</td>\n",
       "      <td>0</td>\n",
       "      <td>1</td>\n",
       "      <td>0</td>\n",
       "      <td>0</td>\n",
       "      <td>0</td>\n",
       "    </tr>\n",
       "    <tr>\n",
       "      <th>72</th>\n",
       "      <td>1</td>\n",
       "      <td>1</td>\n",
       "      <td>0</td>\n",
       "      <td>0</td>\n",
       "      <td>0</td>\n",
       "      <td>0</td>\n",
       "      <td>0</td>\n",
       "      <td>1</td>\n",
       "      <td>0</td>\n",
       "      <td>1</td>\n",
       "      <td>...</td>\n",
       "      <td>0</td>\n",
       "      <td>0</td>\n",
       "      <td>1</td>\n",
       "      <td>0</td>\n",
       "      <td>0</td>\n",
       "      <td>0</td>\n",
       "      <td>1</td>\n",
       "      <td>0</td>\n",
       "      <td>0</td>\n",
       "      <td>0</td>\n",
       "    </tr>\n",
       "    <tr>\n",
       "      <th>81</th>\n",
       "      <td>1</td>\n",
       "      <td>1</td>\n",
       "      <td>0</td>\n",
       "      <td>0</td>\n",
       "      <td>0</td>\n",
       "      <td>0</td>\n",
       "      <td>0</td>\n",
       "      <td>0</td>\n",
       "      <td>1</td>\n",
       "      <td>1</td>\n",
       "      <td>...</td>\n",
       "      <td>1</td>\n",
       "      <td>0</td>\n",
       "      <td>1</td>\n",
       "      <td>0</td>\n",
       "      <td>0</td>\n",
       "      <td>0</td>\n",
       "      <td>1</td>\n",
       "      <td>0</td>\n",
       "      <td>0</td>\n",
       "      <td>0</td>\n",
       "    </tr>\n",
       "    <tr>\n",
       "      <th>95</th>\n",
       "      <td>1</td>\n",
       "      <td>0</td>\n",
       "      <td>1</td>\n",
       "      <td>0</td>\n",
       "      <td>0</td>\n",
       "      <td>1</td>\n",
       "      <td>0</td>\n",
       "      <td>0</td>\n",
       "      <td>0</td>\n",
       "      <td>0</td>\n",
       "      <td>...</td>\n",
       "      <td>0</td>\n",
       "      <td>0</td>\n",
       "      <td>1</td>\n",
       "      <td>0</td>\n",
       "      <td>0</td>\n",
       "      <td>0</td>\n",
       "      <td>1</td>\n",
       "      <td>0</td>\n",
       "      <td>0</td>\n",
       "      <td>0</td>\n",
       "    </tr>\n",
       "  </tbody>\n",
       "</table>\n",
       "<p>5 rows × 26 columns</p>\n",
       "</div>"
      ],
      "text/plain": [
       "    le_impPropria  dm_CONSUMO  dm_REGIMES_OUTROS  dm_ALEMANHA  dm_ARGENTINA  \\\n",
       "10              1           1                  0            0             0   \n",
       "35              1           0                  1            0             0   \n",
       "72              1           1                  0            0             0   \n",
       "81              1           1                  0            0             0   \n",
       "95              1           0                  1            0             0   \n",
       "\n",
       "    dm_CHINA  dm_EUA  dm_ITALIA  dm_PAIS_OUTROS  dm_AEREA  ...  dm_qtdItens_2  \\\n",
       "10         0       0          0               1         1  ...              0   \n",
       "35         0       0          0               1         0  ...              0   \n",
       "72         0       0          1               0         1  ...              0   \n",
       "81         0       0          0               1         1  ...              1   \n",
       "95         1       0          0               0         0  ...              0   \n",
       "\n",
       "    dm_qtdItens_3  dm_valorCIF_1  dm_valorCIF_2  dm_valorCIF_3  dm_valorCIF_4  \\\n",
       "10              0              1              0              0              0   \n",
       "35              0              1              0              0              0   \n",
       "72              0              1              0              0              0   \n",
       "81              0              1              0              0              0   \n",
       "95              0              1              0              0              0   \n",
       "\n",
       "    dm_valorTributos_1  dm_valorTributos_2  dm_valorTributos_3  \\\n",
       "10                   1                   0                   0   \n",
       "35                   1                   0                   0   \n",
       "72                   1                   0                   0   \n",
       "81                   1                   0                   0   \n",
       "95                   1                   0                   0   \n",
       "\n",
       "    dm_valorTributos_4  \n",
       "10                   0  \n",
       "35                   0  \n",
       "72                   0  \n",
       "81                   0  \n",
       "95                   0  \n",
       "\n",
       "[5 rows x 26 columns]"
      ]
     },
     "execution_count": 76,
     "metadata": {},
     "output_type": "execute_result"
    }
   ],
   "source": [
    "# Separando as variáveis em explicativas (predictor variables) e de resposta (target variables)\n",
    "df_explicativas = df_catDI.drop(columns=['retificacao'])\n",
    "df_explicativas.head()"
   ]
  },
  {
   "cell_type": "code",
   "execution_count": 77,
   "metadata": {},
   "outputs": [
    {
     "data": {
      "text/plain": [
       "10    0\n",
       "35    0\n",
       "72    1\n",
       "81    1\n",
       "95    1\n",
       "Name: retificacao, dtype: int64"
      ]
     },
     "execution_count": 77,
     "metadata": {},
     "output_type": "execute_result"
    }
   ],
   "source": [
    "df_resposta = df_catDI['retificacao']\n",
    "df_resposta.head()"
   ]
  },
  {
   "cell_type": "code",
   "execution_count": 78,
   "metadata": {},
   "outputs": [
    {
     "name": "stdout",
     "output_type": "stream",
     "text": [
      "[ True False False  True  True False False  True False  True False  True\n",
      "  True  True  True False False  True  True False False  True False False\n",
      "  True False]\n",
      "[ 1  5  9  1  1 12  6  1 11  1 14  1  1  1  1  7  8  1  1 13  2  1  3  4\n",
      "  1 10]\n"
     ]
    }
   ],
   "source": [
    "# Selecionando as variáveis mais significativas do modelo\n",
    "\n",
    "# Utilizando Regressão Logística\n",
    "\n",
    "logreg = LogisticRegression(random_state = 0, max_iter = 150)\n",
    "rfe = RFE(logreg) # n_features_to_select=10\n",
    "rfe = rfe.fit(df_explicativas, df_resposta)\n",
    "lrs = rfe.support_\n",
    "print(rfe.support_)\n",
    "print(rfe.ranking_)"
   ]
  },
  {
   "cell_type": "code",
   "execution_count": 79,
   "metadata": {},
   "outputs": [
    {
     "name": "stdout",
     "output_type": "stream",
     "text": [
      "Optimization terminated successfully.\n",
      "         Current function value: 0.528688\n",
      "         Iterations 21\n",
      "                           Logit Regression Results                           \n",
      "==============================================================================\n",
      "Dep. Variable:            retificacao   No. Observations:                 1659\n",
      "Model:                          Logit   Df Residuals:                     1639\n",
      "Method:                           MLE   Df Model:                           19\n",
      "Date:                Mon, 30 May 2022   Pseudo R-squ.:                  0.1000\n",
      "Time:                        16:34:10   Log-Likelihood:                -877.09\n",
      "converged:                       True   LL-Null:                       -974.58\n",
      "Covariance Type:            nonrobust   LLR p-value:                 3.386e-31\n",
      "======================================================================================\n",
      "                         coef    std err          z      P>|z|      [0.025      0.975]\n",
      "--------------------------------------------------------------------------------------\n",
      "le_impPropria          0.6347      0.339      1.870      0.061      -0.030       1.300\n",
      "dm_CONSUMO             0.2067   2.97e+06   6.97e-08      1.000   -5.82e+06    5.82e+06\n",
      "dm_REGIMES_OUTROS      0.3513    2.8e+06   1.25e-07      1.000    -5.5e+06     5.5e+06\n",
      "dm_ALEMANHA           -0.0286        nan        nan        nan         nan         nan\n",
      "dm_ARGENTINA           0.0022        nan        nan        nan         nan         nan\n",
      "dm_CHINA               0.1428        nan        nan        nan         nan         nan\n",
      "dm_EUA                 0.2498        nan        nan        nan         nan         nan\n",
      "dm_ITALIA              0.0065        nan        nan        nan         nan         nan\n",
      "dm_PAIS_OUTROS         0.1852        nan        nan        nan         nan         nan\n",
      "dm_AEREA               0.7003        nan        nan        nan         nan         nan\n",
      "dm_MARITIMA            0.1778        nan        nan        nan         nan         nan\n",
      "dm_RODOVIARIA         -0.3201        nan        nan        nan         nan         nan\n",
      "dm_qtdAdicoes_1       -0.7920   5.05e+04  -1.57e-05      1.000    -9.9e+04     9.9e+04\n",
      "dm_qtdAdicoes_2       -0.0095   8.87e+05  -1.07e-08      1.000   -1.74e+06    1.74e+06\n",
      "dm_qtdAdicoes_3        1.3594        nan        nan        nan         nan         nan\n",
      "dm_qtdItens_1          0.1262   4.19e+06   3.01e-08      1.000   -8.21e+06    8.21e+06\n",
      "dm_qtdItens_2          0.1241   4.15e+06   2.99e-08      1.000   -8.13e+06    8.13e+06\n",
      "dm_qtdItens_3          0.3076   4.13e+06   7.45e-08      1.000   -8.09e+06    8.09e+06\n",
      "dm_valorCIF_1          0.7449        nan        nan        nan         nan         nan\n",
      "dm_valorCIF_2          0.1855        nan        nan        nan         nan         nan\n",
      "dm_valorCIF_3          0.0099        nan        nan        nan         nan         nan\n",
      "dm_valorCIF_4         -0.3824        nan        nan        nan         nan         nan\n",
      "dm_valorTributos_1    -0.0740        nan        nan        nan         nan         nan\n",
      "dm_valorTributos_2     0.0580        nan        nan        nan         nan         nan\n",
      "dm_valorTributos_3     0.3633        nan        nan        nan         nan         nan\n",
      "dm_valorTributos_4     0.2107        nan        nan        nan         nan         nan\n",
      "======================================================================================\n"
     ]
    }
   ],
   "source": [
    "logit_model = sm.Logit(df_resposta, df_explicativas)\n",
    "result = logit_model.fit()\n",
    "print(result.summary())"
   ]
  },
  {
   "cell_type": "code",
   "execution_count": 80,
   "metadata": {},
   "outputs": [],
   "source": [
    "# Utilizando o método RandomForestClassifier\n",
    "\n",
    "emb_selector = SelectFromModel(RandomForestClassifier()) # random_state=42\n",
    "emb_selector.fit(df_explicativas, df_resposta)\n",
    "emb_support = emb_selector.get_support()\n",
    "emb_feature = df_explicativas.loc[:,emb_support].columns.tolist()"
   ]
  },
  {
   "cell_type": "code",
   "execution_count": 81,
   "metadata": {},
   "outputs": [],
   "source": [
    "# Utilizando o método XGBoost (Extreme Gradient Boosting)\n",
    "\n",
    "X_treinamento, X_teste, y_treinamento, y_teste = train_test_split(df_explicativas, df_resposta,\n",
    "                                                                  test_size = 0.25, random_state = 0)"
   ]
  },
  {
   "cell_type": "code",
   "execution_count": 82,
   "metadata": {},
   "outputs": [
    {
     "name": "stdout",
     "output_type": "stream",
     "text": [
      "Acurácia: 0.7156626506024096\n"
     ]
    }
   ],
   "source": [
    "# Criando um classificador XGBoost\n",
    "clf = XGBClassifier()\n",
    "\n",
    "# Treinando o classificador XGBoost\n",
    "clf.fit(X_treinamento, y_treinamento)\n",
    "\n",
    "# Calculando o y_pred (predição do modelo) e avaliando a qualidade do ajuste\n",
    "y_pred = clf.predict(X_teste)\n",
    "predicao = [round(value) for value in y_pred]\n",
    "acuracia = accuracy_score(y_teste, predicao)\n",
    "print(\"Acurácia: {}\".format(acuracia))"
   ]
  },
  {
   "cell_type": "code",
   "execution_count": 83,
   "metadata": {},
   "outputs": [
    {
     "data": {
      "text/html": [
       "<div>\n",
       "<style scoped>\n",
       "    .dataframe tbody tr th:only-of-type {\n",
       "        vertical-align: middle;\n",
       "    }\n",
       "\n",
       "    .dataframe tbody tr th {\n",
       "        vertical-align: top;\n",
       "    }\n",
       "\n",
       "    .dataframe thead th {\n",
       "        text-align: right;\n",
       "    }\n",
       "</style>\n",
       "<table border=\"1\" class=\"dataframe\">\n",
       "  <thead>\n",
       "    <tr style=\"text-align: right;\">\n",
       "      <th></th>\n",
       "      <th>feature</th>\n",
       "      <th>importance</th>\n",
       "    </tr>\n",
       "  </thead>\n",
       "  <tbody>\n",
       "    <tr>\n",
       "      <th>0</th>\n",
       "      <td>le_impPropria</td>\n",
       "      <td>2.178599</td>\n",
       "    </tr>\n",
       "    <tr>\n",
       "      <th>1</th>\n",
       "      <td>dm_CONSUMO</td>\n",
       "      <td>3.729898</td>\n",
       "    </tr>\n",
       "    <tr>\n",
       "      <th>2</th>\n",
       "      <td>dm_REGIMES_OUTROS</td>\n",
       "      <td>0.000000</td>\n",
       "    </tr>\n",
       "    <tr>\n",
       "      <th>3</th>\n",
       "      <td>dm_ALEMANHA</td>\n",
       "      <td>3.539870</td>\n",
       "    </tr>\n",
       "    <tr>\n",
       "      <th>4</th>\n",
       "      <td>dm_ARGENTINA</td>\n",
       "      <td>2.749210</td>\n",
       "    </tr>\n",
       "    <tr>\n",
       "      <th>5</th>\n",
       "      <td>dm_CHINA</td>\n",
       "      <td>4.216241</td>\n",
       "    </tr>\n",
       "    <tr>\n",
       "      <th>6</th>\n",
       "      <td>dm_EUA</td>\n",
       "      <td>3.983007</td>\n",
       "    </tr>\n",
       "    <tr>\n",
       "      <th>7</th>\n",
       "      <td>dm_ITALIA</td>\n",
       "      <td>1.782276</td>\n",
       "    </tr>\n",
       "    <tr>\n",
       "      <th>8</th>\n",
       "      <td>dm_PAIS_OUTROS</td>\n",
       "      <td>3.589415</td>\n",
       "    </tr>\n",
       "    <tr>\n",
       "      <th>9</th>\n",
       "      <td>dm_AEREA</td>\n",
       "      <td>8.029812</td>\n",
       "    </tr>\n",
       "    <tr>\n",
       "      <th>10</th>\n",
       "      <td>dm_MARITIMA</td>\n",
       "      <td>4.487172</td>\n",
       "    </tr>\n",
       "    <tr>\n",
       "      <th>11</th>\n",
       "      <td>dm_RODOVIARIA</td>\n",
       "      <td>4.232707</td>\n",
       "    </tr>\n",
       "    <tr>\n",
       "      <th>12</th>\n",
       "      <td>dm_qtdAdicoes_1</td>\n",
       "      <td>13.408695</td>\n",
       "    </tr>\n",
       "    <tr>\n",
       "      <th>13</th>\n",
       "      <td>dm_qtdAdicoes_2</td>\n",
       "      <td>3.832995</td>\n",
       "    </tr>\n",
       "    <tr>\n",
       "      <th>14</th>\n",
       "      <td>dm_qtdAdicoes_3</td>\n",
       "      <td>2.010145</td>\n",
       "    </tr>\n",
       "    <tr>\n",
       "      <th>15</th>\n",
       "      <td>dm_qtdItens_1</td>\n",
       "      <td>3.857503</td>\n",
       "    </tr>\n",
       "    <tr>\n",
       "      <th>16</th>\n",
       "      <td>dm_qtdItens_2</td>\n",
       "      <td>3.489447</td>\n",
       "    </tr>\n",
       "    <tr>\n",
       "      <th>17</th>\n",
       "      <td>dm_qtdItens_3</td>\n",
       "      <td>3.192712</td>\n",
       "    </tr>\n",
       "    <tr>\n",
       "      <th>18</th>\n",
       "      <td>dm_valorCIF_1</td>\n",
       "      <td>3.330483</td>\n",
       "    </tr>\n",
       "    <tr>\n",
       "      <th>19</th>\n",
       "      <td>dm_valorCIF_2</td>\n",
       "      <td>3.032434</td>\n",
       "    </tr>\n",
       "    <tr>\n",
       "      <th>20</th>\n",
       "      <td>dm_valorCIF_3</td>\n",
       "      <td>3.581041</td>\n",
       "    </tr>\n",
       "    <tr>\n",
       "      <th>21</th>\n",
       "      <td>dm_valorCIF_4</td>\n",
       "      <td>3.546864</td>\n",
       "    </tr>\n",
       "    <tr>\n",
       "      <th>22</th>\n",
       "      <td>dm_valorTributos_1</td>\n",
       "      <td>3.365654</td>\n",
       "    </tr>\n",
       "    <tr>\n",
       "      <th>23</th>\n",
       "      <td>dm_valorTributos_2</td>\n",
       "      <td>3.918296</td>\n",
       "    </tr>\n",
       "    <tr>\n",
       "      <th>24</th>\n",
       "      <td>dm_valorTributos_3</td>\n",
       "      <td>3.901159</td>\n",
       "    </tr>\n",
       "    <tr>\n",
       "      <th>25</th>\n",
       "      <td>dm_valorTributos_4</td>\n",
       "      <td>3.014360</td>\n",
       "    </tr>\n",
       "  </tbody>\n",
       "</table>\n",
       "</div>"
      ],
      "text/plain": [
       "               feature  importance\n",
       "0        le_impPropria    2.178599\n",
       "1           dm_CONSUMO    3.729898\n",
       "2    dm_REGIMES_OUTROS    0.000000\n",
       "3          dm_ALEMANHA    3.539870\n",
       "4         dm_ARGENTINA    2.749210\n",
       "5             dm_CHINA    4.216241\n",
       "6               dm_EUA    3.983007\n",
       "7            dm_ITALIA    1.782276\n",
       "8       dm_PAIS_OUTROS    3.589415\n",
       "9             dm_AEREA    8.029812\n",
       "10         dm_MARITIMA    4.487172\n",
       "11       dm_RODOVIARIA    4.232707\n",
       "12     dm_qtdAdicoes_1   13.408695\n",
       "13     dm_qtdAdicoes_2    3.832995\n",
       "14     dm_qtdAdicoes_3    2.010145\n",
       "15       dm_qtdItens_1    3.857503\n",
       "16       dm_qtdItens_2    3.489447\n",
       "17       dm_qtdItens_3    3.192712\n",
       "18       dm_valorCIF_1    3.330483\n",
       "19       dm_valorCIF_2    3.032434\n",
       "20       dm_valorCIF_3    3.581041\n",
       "21       dm_valorCIF_4    3.546864\n",
       "22  dm_valorTributos_1    3.365654\n",
       "23  dm_valorTributos_2    3.918296\n",
       "24  dm_valorTributos_3    3.901159\n",
       "25  dm_valorTributos_4    3.014360"
      ]
     },
     "execution_count": 83,
     "metadata": {},
     "output_type": "execute_result"
    }
   ],
   "source": [
    "# Calcula a importância das features\n",
    "importances = clf.feature_importances_\n",
    "df_importances_XGB = pd.DataFrame({'feature': df_explicativas.columns,\n",
    "                                   'importance': (importances * 100)})\n",
    "df_importances_XGB"
   ]
  },
  {
   "cell_type": "code",
   "execution_count": 84,
   "metadata": {},
   "outputs": [
    {
     "data": {
      "text/plain": [
       "count    26.000000\n",
       "mean      3.846154\n",
       "std       2.356398\n",
       "min       0.000000\n",
       "25%       3.072503\n",
       "50%       3.563952\n",
       "75%       3.914012\n",
       "max      13.408695\n",
       "Name: importance, dtype: float64"
      ]
     },
     "execution_count": 84,
     "metadata": {},
     "output_type": "execute_result"
    }
   ],
   "source": [
    "# Verificando a distribuição da variável qtdItens\n",
    "df_importances_XGB['importance'].describe()"
   ]
  },
  {
   "cell_type": "code",
   "execution_count": 85,
   "metadata": {},
   "outputs": [
    {
     "data": {
      "text/plain": [
       "array([False,  True])"
      ]
     },
     "execution_count": 85,
     "metadata": {},
     "output_type": "execute_result"
    }
   ],
   "source": [
    "# Atribuindo valores lógicos iguais a \"True\" para as 50% melhores variáveis e \"False\" para as demais\n",
    "\n",
    "def select_features(x):\n",
    "    if x > 3.56:            # Ponto de corte utilizado para seleção das 50% melhores variáveis (mediana)\n",
    "        x = 1\n",
    "    else:\n",
    "        x = 0\n",
    "    return x\n",
    "\n",
    "df_importances_XGB['select'] = df_importances_XGB['importance'].apply(lambda x: bool(select_features(x)))\n",
    "df_importances_XGB['select'].unique()"
   ]
  },
  {
   "cell_type": "code",
   "execution_count": 86,
   "metadata": {},
   "outputs": [
    {
     "data": {
      "text/html": [
       "<div>\n",
       "<style scoped>\n",
       "    .dataframe tbody tr th:only-of-type {\n",
       "        vertical-align: middle;\n",
       "    }\n",
       "\n",
       "    .dataframe tbody tr th {\n",
       "        vertical-align: top;\n",
       "    }\n",
       "\n",
       "    .dataframe thead th {\n",
       "        text-align: right;\n",
       "    }\n",
       "</style>\n",
       "<table border=\"1\" class=\"dataframe\">\n",
       "  <thead>\n",
       "    <tr style=\"text-align: right;\">\n",
       "      <th></th>\n",
       "      <th>feature</th>\n",
       "      <th>importance</th>\n",
       "      <th>select</th>\n",
       "    </tr>\n",
       "  </thead>\n",
       "  <tbody>\n",
       "    <tr>\n",
       "      <th>0</th>\n",
       "      <td>le_impPropria</td>\n",
       "      <td>2.178599</td>\n",
       "      <td>False</td>\n",
       "    </tr>\n",
       "    <tr>\n",
       "      <th>1</th>\n",
       "      <td>dm_CONSUMO</td>\n",
       "      <td>3.729898</td>\n",
       "      <td>True</td>\n",
       "    </tr>\n",
       "    <tr>\n",
       "      <th>2</th>\n",
       "      <td>dm_REGIMES_OUTROS</td>\n",
       "      <td>0.000000</td>\n",
       "      <td>False</td>\n",
       "    </tr>\n",
       "    <tr>\n",
       "      <th>3</th>\n",
       "      <td>dm_ALEMANHA</td>\n",
       "      <td>3.539870</td>\n",
       "      <td>False</td>\n",
       "    </tr>\n",
       "    <tr>\n",
       "      <th>4</th>\n",
       "      <td>dm_ARGENTINA</td>\n",
       "      <td>2.749210</td>\n",
       "      <td>False</td>\n",
       "    </tr>\n",
       "    <tr>\n",
       "      <th>5</th>\n",
       "      <td>dm_CHINA</td>\n",
       "      <td>4.216241</td>\n",
       "      <td>True</td>\n",
       "    </tr>\n",
       "    <tr>\n",
       "      <th>6</th>\n",
       "      <td>dm_EUA</td>\n",
       "      <td>3.983007</td>\n",
       "      <td>True</td>\n",
       "    </tr>\n",
       "    <tr>\n",
       "      <th>7</th>\n",
       "      <td>dm_ITALIA</td>\n",
       "      <td>1.782276</td>\n",
       "      <td>False</td>\n",
       "    </tr>\n",
       "    <tr>\n",
       "      <th>8</th>\n",
       "      <td>dm_PAIS_OUTROS</td>\n",
       "      <td>3.589415</td>\n",
       "      <td>True</td>\n",
       "    </tr>\n",
       "    <tr>\n",
       "      <th>9</th>\n",
       "      <td>dm_AEREA</td>\n",
       "      <td>8.029812</td>\n",
       "      <td>True</td>\n",
       "    </tr>\n",
       "    <tr>\n",
       "      <th>10</th>\n",
       "      <td>dm_MARITIMA</td>\n",
       "      <td>4.487172</td>\n",
       "      <td>True</td>\n",
       "    </tr>\n",
       "    <tr>\n",
       "      <th>11</th>\n",
       "      <td>dm_RODOVIARIA</td>\n",
       "      <td>4.232707</td>\n",
       "      <td>True</td>\n",
       "    </tr>\n",
       "    <tr>\n",
       "      <th>12</th>\n",
       "      <td>dm_qtdAdicoes_1</td>\n",
       "      <td>13.408695</td>\n",
       "      <td>True</td>\n",
       "    </tr>\n",
       "    <tr>\n",
       "      <th>13</th>\n",
       "      <td>dm_qtdAdicoes_2</td>\n",
       "      <td>3.832995</td>\n",
       "      <td>True</td>\n",
       "    </tr>\n",
       "    <tr>\n",
       "      <th>14</th>\n",
       "      <td>dm_qtdAdicoes_3</td>\n",
       "      <td>2.010145</td>\n",
       "      <td>False</td>\n",
       "    </tr>\n",
       "    <tr>\n",
       "      <th>15</th>\n",
       "      <td>dm_qtdItens_1</td>\n",
       "      <td>3.857503</td>\n",
       "      <td>True</td>\n",
       "    </tr>\n",
       "    <tr>\n",
       "      <th>16</th>\n",
       "      <td>dm_qtdItens_2</td>\n",
       "      <td>3.489447</td>\n",
       "      <td>False</td>\n",
       "    </tr>\n",
       "    <tr>\n",
       "      <th>17</th>\n",
       "      <td>dm_qtdItens_3</td>\n",
       "      <td>3.192712</td>\n",
       "      <td>False</td>\n",
       "    </tr>\n",
       "    <tr>\n",
       "      <th>18</th>\n",
       "      <td>dm_valorCIF_1</td>\n",
       "      <td>3.330483</td>\n",
       "      <td>False</td>\n",
       "    </tr>\n",
       "    <tr>\n",
       "      <th>19</th>\n",
       "      <td>dm_valorCIF_2</td>\n",
       "      <td>3.032434</td>\n",
       "      <td>False</td>\n",
       "    </tr>\n",
       "    <tr>\n",
       "      <th>20</th>\n",
       "      <td>dm_valorCIF_3</td>\n",
       "      <td>3.581041</td>\n",
       "      <td>True</td>\n",
       "    </tr>\n",
       "    <tr>\n",
       "      <th>21</th>\n",
       "      <td>dm_valorCIF_4</td>\n",
       "      <td>3.546864</td>\n",
       "      <td>False</td>\n",
       "    </tr>\n",
       "    <tr>\n",
       "      <th>22</th>\n",
       "      <td>dm_valorTributos_1</td>\n",
       "      <td>3.365654</td>\n",
       "      <td>False</td>\n",
       "    </tr>\n",
       "    <tr>\n",
       "      <th>23</th>\n",
       "      <td>dm_valorTributos_2</td>\n",
       "      <td>3.918296</td>\n",
       "      <td>True</td>\n",
       "    </tr>\n",
       "    <tr>\n",
       "      <th>24</th>\n",
       "      <td>dm_valorTributos_3</td>\n",
       "      <td>3.901159</td>\n",
       "      <td>True</td>\n",
       "    </tr>\n",
       "    <tr>\n",
       "      <th>25</th>\n",
       "      <td>dm_valorTributos_4</td>\n",
       "      <td>3.014360</td>\n",
       "      <td>False</td>\n",
       "    </tr>\n",
       "  </tbody>\n",
       "</table>\n",
       "</div>"
      ],
      "text/plain": [
       "               feature  importance  select\n",
       "0        le_impPropria    2.178599   False\n",
       "1           dm_CONSUMO    3.729898    True\n",
       "2    dm_REGIMES_OUTROS    0.000000   False\n",
       "3          dm_ALEMANHA    3.539870   False\n",
       "4         dm_ARGENTINA    2.749210   False\n",
       "5             dm_CHINA    4.216241    True\n",
       "6               dm_EUA    3.983007    True\n",
       "7            dm_ITALIA    1.782276   False\n",
       "8       dm_PAIS_OUTROS    3.589415    True\n",
       "9             dm_AEREA    8.029812    True\n",
       "10         dm_MARITIMA    4.487172    True\n",
       "11       dm_RODOVIARIA    4.232707    True\n",
       "12     dm_qtdAdicoes_1   13.408695    True\n",
       "13     dm_qtdAdicoes_2    3.832995    True\n",
       "14     dm_qtdAdicoes_3    2.010145   False\n",
       "15       dm_qtdItens_1    3.857503    True\n",
       "16       dm_qtdItens_2    3.489447   False\n",
       "17       dm_qtdItens_3    3.192712   False\n",
       "18       dm_valorCIF_1    3.330483   False\n",
       "19       dm_valorCIF_2    3.032434   False\n",
       "20       dm_valorCIF_3    3.581041    True\n",
       "21       dm_valorCIF_4    3.546864   False\n",
       "22  dm_valorTributos_1    3.365654   False\n",
       "23  dm_valorTributos_2    3.918296    True\n",
       "24  dm_valorTributos_3    3.901159    True\n",
       "25  dm_valorTributos_4    3.014360   False"
      ]
     },
     "execution_count": 86,
     "metadata": {},
     "output_type": "execute_result"
    }
   ],
   "source": [
    "df_importances_XGB"
   ]
  },
  {
   "cell_type": "code",
   "execution_count": 87,
   "metadata": {},
   "outputs": [
    {
     "name": "stdout",
     "output_type": "stream",
     "text": [
      "               feature    LRS    RFC    XGB  total\n",
      "24  dm_valorTributos_3   True   True   True      3\n",
      "9             dm_AEREA   True   True   True      3\n",
      "11       dm_RODOVIARIA   True   True   True      3\n",
      "12     dm_qtdAdicoes_1   True   True   True      3\n",
      "13     dm_qtdAdicoes_2   True  False   True      2\n",
      "23  dm_valorTributos_2  False   True   True      2\n",
      "5             dm_CHINA  False   True   True      2\n",
      "21       dm_valorCIF_4   True   True  False      2\n",
      "20       dm_valorCIF_3  False   True   True      2\n",
      "8       dm_PAIS_OUTROS  False   True   True      2\n",
      "18       dm_valorCIF_1   True   True  False      2\n",
      "15       dm_qtdItens_1  False   True   True      2\n",
      "16       dm_qtdItens_2  False   True  False      1\n",
      "22  dm_valorTributos_1  False   True  False      1\n",
      "19       dm_valorCIF_2  False   True  False      1\n",
      "17       dm_qtdItens_3   True  False  False      1\n",
      "0        le_impPropria   True  False  False      1\n",
      "14     dm_qtdAdicoes_3   True  False  False      1\n",
      "1           dm_CONSUMO  False  False   True      1\n",
      "10         dm_MARITIMA  False  False   True      1\n",
      "7            dm_ITALIA   True  False  False      1\n",
      "6               dm_EUA  False  False   True      1\n",
      "4         dm_ARGENTINA   True  False  False      1\n",
      "3          dm_ALEMANHA   True  False  False      1\n",
      "2    dm_REGIMES_OUTROS  False  False  False      0\n",
      "25  dm_valorTributos_4  False  False  False      0\n"
     ]
    }
   ],
   "source": [
    "# Selecionando as melhores variáveis (Feature Engineering)\n",
    "\n",
    "# Foram eleitas as variáveis conforme tabela abaixo:\n",
    "\n",
    "#                 feature  *  LRS    *  RFC    *  XGB   *  total\n",
    "# **************************************************************\n",
    "# (52) dm_valorTributos_4  *  True   *  True   *  True  *    3\n",
    "# (39)    dm_qtdAdicoes_1  *  True   *  True   *  True  *    3\n",
    "# (36)        dm_MARITIMA  *  True   *  True   *  True  *    3\n",
    "# (35)           dm_AEREA  *  True   *  True   *  True  *    3\n",
    "# (18)              dm_PE  *  True   *  False  *  True  *    2\n",
    "# (51) dm_valorTributos_3  *  False  *  True   *  True  *    2\n",
    "# (45)      dm_valorCIF_1  *  False  *  True   *  True  *    2\n",
    "# (42)      dm_qtdItens_1  *  False  *  True   *  True  *    2\n",
    "# (40)    dm_qtdAdicoes_2  *  False  *  True   *  True  *    2\n",
    "# (37)      dm_RODOVIARIA  *  True   *  False  *  True  *    2\n",
    "\n",
    "df_feature_selection = pd.DataFrame({'feature': df_explicativas.columns,\n",
    "                                     'LRS': lrs,\n",
    "                                     'RFC': emb_support,\n",
    "                                     'XGB': df_importances_XGB['select']})\n",
    "df_feature_selection['total'] = np.sum(df_feature_selection, axis = 1)\n",
    "print(df_feature_selection.sort_values(['total'], ascending = False))"
   ]
  },
  {
   "cell_type": "code",
   "execution_count": 88,
   "metadata": {},
   "outputs": [
    {
     "data": {
      "text/html": [
       "<div>\n",
       "<style scoped>\n",
       "    .dataframe tbody tr th:only-of-type {\n",
       "        vertical-align: middle;\n",
       "    }\n",
       "\n",
       "    .dataframe tbody tr th {\n",
       "        vertical-align: top;\n",
       "    }\n",
       "\n",
       "    .dataframe thead th {\n",
       "        text-align: right;\n",
       "    }\n",
       "</style>\n",
       "<table border=\"1\" class=\"dataframe\">\n",
       "  <thead>\n",
       "    <tr style=\"text-align: right;\">\n",
       "      <th></th>\n",
       "      <th>dm_valorTributos_3</th>\n",
       "      <th>dm_AEREA</th>\n",
       "      <th>dm_RODOVIARIA</th>\n",
       "      <th>dm_qtdAdicoes_1</th>\n",
       "      <th>dm_qtdAdicoes_2</th>\n",
       "      <th>dm_qtdItens_1</th>\n",
       "      <th>dm_valorTributos_2</th>\n",
       "      <th>dm_CHINA</th>\n",
       "      <th>dm_valorCIF_4</th>\n",
       "      <th>dm_valorCIF_3</th>\n",
       "      <th>dm_PAIS_OUTROS</th>\n",
       "      <th>dm_valorCIF_1</th>\n",
       "    </tr>\n",
       "  </thead>\n",
       "  <tbody>\n",
       "    <tr>\n",
       "      <th>10</th>\n",
       "      <td>0</td>\n",
       "      <td>1</td>\n",
       "      <td>0</td>\n",
       "      <td>1</td>\n",
       "      <td>0</td>\n",
       "      <td>1</td>\n",
       "      <td>0</td>\n",
       "      <td>0</td>\n",
       "      <td>0</td>\n",
       "      <td>0</td>\n",
       "      <td>1</td>\n",
       "      <td>1</td>\n",
       "    </tr>\n",
       "    <tr>\n",
       "      <th>35</th>\n",
       "      <td>0</td>\n",
       "      <td>0</td>\n",
       "      <td>1</td>\n",
       "      <td>1</td>\n",
       "      <td>0</td>\n",
       "      <td>1</td>\n",
       "      <td>0</td>\n",
       "      <td>0</td>\n",
       "      <td>0</td>\n",
       "      <td>0</td>\n",
       "      <td>1</td>\n",
       "      <td>1</td>\n",
       "    </tr>\n",
       "    <tr>\n",
       "      <th>72</th>\n",
       "      <td>0</td>\n",
       "      <td>1</td>\n",
       "      <td>0</td>\n",
       "      <td>0</td>\n",
       "      <td>1</td>\n",
       "      <td>1</td>\n",
       "      <td>0</td>\n",
       "      <td>0</td>\n",
       "      <td>0</td>\n",
       "      <td>0</td>\n",
       "      <td>0</td>\n",
       "      <td>1</td>\n",
       "    </tr>\n",
       "    <tr>\n",
       "      <th>81</th>\n",
       "      <td>0</td>\n",
       "      <td>1</td>\n",
       "      <td>0</td>\n",
       "      <td>0</td>\n",
       "      <td>1</td>\n",
       "      <td>0</td>\n",
       "      <td>0</td>\n",
       "      <td>0</td>\n",
       "      <td>0</td>\n",
       "      <td>0</td>\n",
       "      <td>1</td>\n",
       "      <td>1</td>\n",
       "    </tr>\n",
       "    <tr>\n",
       "      <th>95</th>\n",
       "      <td>0</td>\n",
       "      <td>0</td>\n",
       "      <td>0</td>\n",
       "      <td>1</td>\n",
       "      <td>0</td>\n",
       "      <td>1</td>\n",
       "      <td>0</td>\n",
       "      <td>1</td>\n",
       "      <td>0</td>\n",
       "      <td>0</td>\n",
       "      <td>0</td>\n",
       "      <td>1</td>\n",
       "    </tr>\n",
       "  </tbody>\n",
       "</table>\n",
       "</div>"
      ],
      "text/plain": [
       "    dm_valorTributos_3  dm_AEREA  dm_RODOVIARIA  dm_qtdAdicoes_1  \\\n",
       "10                   0         1              0                1   \n",
       "35                   0         0              1                1   \n",
       "72                   0         1              0                0   \n",
       "81                   0         1              0                0   \n",
       "95                   0         0              0                1   \n",
       "\n",
       "    dm_qtdAdicoes_2  dm_qtdItens_1  dm_valorTributos_2  dm_CHINA  \\\n",
       "10                0              1                   0         0   \n",
       "35                0              1                   0         0   \n",
       "72                1              1                   0         0   \n",
       "81                1              0                   0         0   \n",
       "95                0              1                   0         1   \n",
       "\n",
       "    dm_valorCIF_4  dm_valorCIF_3  dm_PAIS_OUTROS  dm_valorCIF_1  \n",
       "10              0              0               1              1  \n",
       "35              0              0               1              1  \n",
       "72              0              0               0              1  \n",
       "81              0              0               1              1  \n",
       "95              0              0               0              1  "
      ]
     },
     "execution_count": 88,
     "metadata": {},
     "output_type": "execute_result"
    }
   ],
   "source": [
    "# Criando o dataframe com as variáveis selecionadas\n",
    "df_explicativas_final = df_explicativas[['dm_valorTributos_3', 'dm_AEREA', 'dm_RODOVIARIA', 'dm_qtdAdicoes_1',\n",
    "                                         'dm_qtdAdicoes_2', 'dm_qtdItens_1', 'dm_valorTributos_2', 'dm_CHINA',\n",
    "                                         'dm_valorCIF_4', 'dm_valorCIF_3', 'dm_PAIS_OUTROS', 'dm_valorCIF_1']]\n",
    "df_explicativas_final.head()"
   ]
  },
  {
   "cell_type": "code",
   "execution_count": 89,
   "metadata": {},
   "outputs": [],
   "source": [
    "# Separando os dados finais (após seleção de variáveis) para treino (80%) e teste (20%)\n",
    "X_treinamento, X_teste, y_treinamento, y_teste = train_test_split(df_explicativas_final, df_resposta,\n",
    "                                                                  test_size = 0.2, random_state = 0)"
   ]
  },
  {
   "cell_type": "markdown",
   "metadata": {},
   "source": [
    "## Criando os modelos de Machine Learning"
   ]
  },
  {
   "cell_type": "code",
   "execution_count": 90,
   "metadata": {},
   "outputs": [],
   "source": [
    "def mostra_confusion_matrix(cf,                   # dados da matriz de confusão\n",
    "                            group_names = None,   # lista das labels mostradas em cada quadrado\n",
    "                            categories = 'auto',  # lista das categorias mostradas nos eixos x e y\n",
    "                            count = True,         # se True, mostra as quantidades em cada quadrado\n",
    "                            percent = True,       # se True, mostra os percentuais em cada quadrado\n",
    "                            cbar = True,          # se True, mostra uma barra de cores\n",
    "                            xyticks = False,      # se True, mostra a marcação de x e y\n",
    "                            xyplotlabels = False, # se True, mostra 'True Label' e 'Predicted Label'\n",
    "                            figsize = (4, 4),     \n",
    "                            cmap = 'Blues'):\n",
    "    \n",
    "    # Gera o texto dentro de cada quadrado\n",
    "    blanks = ['' for i in range(cf.size)]\n",
    "\n",
    "    if group_names and len(group_names)==cf.size:\n",
    "        group_labels = [\"{}\\n\".format(value) for value in group_names]\n",
    "    else:\n",
    "        group_labels = blanks\n",
    "\n",
    "    if count:\n",
    "        group_counts = [\"{0:0.0f}\\n\".format(value) for value in cf.flatten()]\n",
    "    else:\n",
    "        group_counts = blanks\n",
    "\n",
    "    if percent:\n",
    "        group_percentages = [\"{0:.2%}\".format(value) for value in cf.flatten()/np.sum(cf)]\n",
    "    else:\n",
    "        group_percentages = blanks\n",
    "\n",
    "    box_labels = [f\"{v1}{v2}{v3}\".strip() for v1, v2, v3 in zip(group_labels,group_counts,group_percentages)]\n",
    "    box_labels = np.asarray(box_labels).reshape(cf.shape[0],cf.shape[1])\n",
    "\n",
    "    # SET FIGURE PARAMETERS ACCORDING TO OTHER ARGUMENTS\n",
    "    if figsize==None:\n",
    "        #Get default figure size if not set\n",
    "        figsize = plt.rcParams.get('figure.figsize')\n",
    "\n",
    "    if xyticks==False:\n",
    "        #Do not show categories if xyticks is False\n",
    "        categories=False\n",
    "\n",
    "    # Plota o mapa de calor\n",
    "    plt.figure(figsize=figsize)\n",
    "    sns.heatmap(cf,annot=box_labels,fmt=\"\",cmap=cmap,cbar=cbar,xticklabels=categories,yticklabels=categories)\n",
    "\n",
    "    if xyplotlabels:\n",
    "        plt.ylabel('True label')"
   ]
  },
  {
   "cell_type": "markdown",
   "metadata": {},
   "source": [
    "### 1. Modelo de Regressão Logística"
   ]
  },
  {
   "cell_type": "code",
   "execution_count": 91,
   "metadata": {},
   "outputs": [],
   "source": [
    "# Criando dicionário com os hiperparâmetros\n",
    "LR_dict = {'C':np.logspace(-3,3,7),\n",
    "           'penalty':['l2'],\n",
    "           'random_state': [0]}"
   ]
  },
  {
   "cell_type": "code",
   "execution_count": 92,
   "metadata": {},
   "outputs": [
    {
     "data": {
      "text/plain": [
       "GridSearchCV(cv=10, estimator=LogisticRegression(max_iter=150, random_state=0),\n",
       "             param_grid={'C': array([1.e-03, 1.e-02, 1.e-01, 1.e+00, 1.e+01, 1.e+02, 1.e+03]),\n",
       "                         'penalty': ['l2'], 'random_state': [0]},\n",
       "             scoring='accuracy')"
      ]
     },
     "execution_count": 92,
     "metadata": {},
     "output_type": "execute_result"
    }
   ],
   "source": [
    "# Treinando com a Regressão Logística\n",
    "LR = LogisticRegression(random_state = 0, max_iter = 150)\n",
    "LR_grid = GridSearchCV(estimator = LR, param_grid = LR_dict, scoring = 'accuracy', cv = 10)\n",
    "LR_grid.fit(X_treinamento, y_treinamento)"
   ]
  },
  {
   "cell_type": "code",
   "execution_count": 93,
   "metadata": {},
   "outputs": [
    {
     "data": {
      "text/plain": [
       "{'C': 0.1, 'penalty': 'l2', 'random_state': 0}"
      ]
     },
     "execution_count": 93,
     "metadata": {},
     "output_type": "execute_result"
    }
   ],
   "source": [
    "LR_grid.best_params_"
   ]
  },
  {
   "cell_type": "code",
   "execution_count": 94,
   "metadata": {},
   "outputs": [
    {
     "data": {
      "text/plain": [
       "0.7279562542720437"
      ]
     },
     "execution_count": 94,
     "metadata": {},
     "output_type": "execute_result"
    }
   ],
   "source": [
    "LR_grid.best_score_"
   ]
  },
  {
   "cell_type": "code",
   "execution_count": 95,
   "metadata": {},
   "outputs": [],
   "source": [
    "# Medindo a acurária com os dados de teste\n",
    "y_pred_LR = LR_grid.predict(X_teste)"
   ]
  },
  {
   "cell_type": "code",
   "execution_count": 96,
   "metadata": {},
   "outputs": [
    {
     "name": "stdout",
     "output_type": "stream",
     "text": [
      "              precision    recall  f1-score   support\n",
      "\n",
      "           0       0.57      0.04      0.08        92\n",
      "           1       0.73      0.99      0.84       240\n",
      "\n",
      "    accuracy                           0.73       332\n",
      "   macro avg       0.65      0.52      0.46       332\n",
      "weighted avg       0.69      0.73      0.63       332\n",
      "\n",
      "Acurácia de Previsão: 0.7259036144578314\n"
     ]
    }
   ],
   "source": [
    "print(classification_report(y_teste, y_pred_LR, target_names=['0','1']))\n",
    "print(\"Acurácia de Previsão:\", accuracy_score(y_teste, y_pred_LR))"
   ]
  },
  {
   "cell_type": "code",
   "execution_count": 97,
   "metadata": {},
   "outputs": [
    {
     "data": {
      "image/png": "[encoded data removed]",
      "text/plain": [
       "<Figure size 288x288 with 2 Axes>"
      ]
     },
     "metadata": {
      "needs_background": "light"
     },
     "output_type": "display_data"
    }
   ],
   "source": [
    "# Gerando a matriz de confusão (Regressão Logística)\n",
    "cf_matrix = confusion_matrix(y_teste, y_pred_LR)\n",
    "cf_labels = ['True_Negative', 'False_Positive', 'False_Negative', 'True_Positive']\n",
    "cf_categories = ['Zero', 'One']\n",
    "mostra_confusion_matrix(cf_matrix, group_names = cf_labels, categories = cf_categories)"
   ]
  },
  {
   "cell_type": "markdown",
   "metadata": {},
   "source": [
    "### 2. Modelo Random Forest"
   ]
  },
  {
   "cell_type": "code",
   "execution_count": 98,
   "metadata": {},
   "outputs": [
    {
     "data": {
      "text/plain": [
       "{'n_estimators': [50, 100, 200, 300, 800, 1000],\n",
       " 'criterion': ['gini', 'entropy'],\n",
       " 'bootstrap': [False, True],\n",
       " 'random_state': [0]}"
      ]
     },
     "execution_count": 98,
     "metadata": {},
     "output_type": "execute_result"
    }
   ],
   "source": [
    "# Criando dicionário com os hiperparâmetros\n",
    "RF_dict = {'n_estimators':[50,100,200,300,800,1000],   # numero de estimadores que será testado\n",
    "           'criterion':['gini', 'entropy'],            # critérios\n",
    "           'bootstrap':[False, True],                  # amostragem com e sem reposição\n",
    "           'random_state': [0]}\n",
    "RF_dict"
   ]
  },
  {
   "cell_type": "code",
   "execution_count": 99,
   "metadata": {},
   "outputs": [
    {
     "data": {
      "text/plain": [
       "GridSearchCV(cv=10, estimator=RandomForestClassifier(random_state=0),\n",
       "             param_grid={'bootstrap': [False, True],\n",
       "                         'criterion': ['gini', 'entropy'],\n",
       "                         'n_estimators': [50, 100, 200, 300, 800, 1000],\n",
       "                         'random_state': [0]},\n",
       "             scoring='accuracy')"
      ]
     },
     "execution_count": 99,
     "metadata": {},
     "output_type": "execute_result"
    }
   ],
   "source": [
    "RF = RandomForestClassifier(random_state = 0)\n",
    "RF_grid = GridSearchCV(estimator=RF,                # modelo Random Forest\n",
    "                       param_grid=RF_dict,          # dicionario com parametros\n",
    "                       scoring='accuracy',          # parametro de validação: acurácia\n",
    "                       cv=10)                       # cross-validation = 10 folds\n",
    "RF_grid"
   ]
  },
  {
   "cell_type": "code",
   "execution_count": 100,
   "metadata": {},
   "outputs": [
    {
     "data": {
      "text/plain": [
       "GridSearchCV(cv=10, estimator=RandomForestClassifier(random_state=0),\n",
       "             param_grid={'bootstrap': [False, True],\n",
       "                         'criterion': ['gini', 'entropy'],\n",
       "                         'n_estimators': [50, 100, 200, 300, 800, 1000],\n",
       "                         'random_state': [0]},\n",
       "             scoring='accuracy')"
      ]
     },
     "execution_count": 100,
     "metadata": {},
     "output_type": "execute_result"
    }
   ],
   "source": [
    "RF_grid.fit(X_treinamento, y_treinamento)"
   ]
  },
  {
   "cell_type": "code",
   "execution_count": 101,
   "metadata": {},
   "outputs": [],
   "source": [
    "# Medindo a acurária com os dados de teste\n",
    "y_pred_RF = RF_grid.predict(X_teste)"
   ]
  },
  {
   "cell_type": "code",
   "execution_count": 102,
   "metadata": {},
   "outputs": [
    {
     "name": "stdout",
     "output_type": "stream",
     "text": [
      "              precision    recall  f1-score   support\n",
      "\n",
      "           0       0.52      0.30      0.38        92\n",
      "           1       0.77      0.89      0.83       240\n",
      "\n",
      "    accuracy                           0.73       332\n",
      "   macro avg       0.64      0.60      0.60       332\n",
      "weighted avg       0.70      0.73      0.70       332\n",
      "\n",
      "Acurácia de Previsão: 0.7289156626506024\n"
     ]
    }
   ],
   "source": [
    "print(classification_report(y_teste, y_pred_RF, target_names=['0','1']))\n",
    "print(\"Acurácia de Previsão:\", accuracy_score(y_teste, y_pred_RF))"
   ]
  },
  {
   "cell_type": "code",
   "execution_count": 103,
   "metadata": {},
   "outputs": [
    {
     "data": {
      "image/png": "[encoded data removed]",
      "text/plain": [
       "<Figure size 288x288 with 2 Axes>"
      ]
     },
     "metadata": {
      "needs_background": "light"
     },
     "output_type": "display_data"
    }
   ],
   "source": [
    "# Gerando a matriz de confusão (Random Forest)\n",
    "cf_matrix = confusion_matrix(y_teste, y_pred_RF)\n",
    "cf_labels = ['True_Negative', 'False_Positive', 'False_Negative', 'True_Positive']\n",
    "cf_categories = ['Zero', 'One']\n",
    "mostra_confusion_matrix(cf_matrix, group_names = cf_labels, categories = cf_categories)"
   ]
  },
  {
   "cell_type": "markdown",
   "metadata": {},
   "source": [
    "### 3. Modelo XGBoost (Extreme Gradient Boosting)"
   ]
  },
  {
   "cell_type": "code",
   "execution_count": 104,
   "metadata": {},
   "outputs": [
    {
     "data": {
      "text/plain": [
       "XGBClassifier(base_score=0.5, booster='gbtree', callbacks=None,\n",
       "              colsample_bylevel=1, colsample_bynode=1, colsample_bytree=1,\n",
       "              early_stopping_rounds=None, enable_categorical=False,\n",
       "              eval_metric='logloss', gamma=1, gpu_id=-1,\n",
       "              grow_policy='depthwise', importance_type=None,\n",
       "              interaction_constraints='', learning_rate=0.01, max_bin=256,\n",
       "              max_cat_to_onehot=4, max_delta_step=5, max_depth=3, max_leaves=0,\n",
       "              min_child_weight=1, missing=nan, monotone_constraints='()',\n",
       "              n_estimators=1000, n_jobs=0, num_parallel_tree=1,\n",
       "              predictor='auto', random_state=0, reg_alpha=0.3, reg_lambda=1, ...)"
      ]
     },
     "execution_count": 104,
     "metadata": {},
     "output_type": "execute_result"
    }
   ],
   "source": [
    "ml_XGB = XGBClassifier(scale_pos_weight=1,\n",
    "                       learning_rate=0.01,  \n",
    "                       colsample_bytree = 1,\n",
    "                       subsample = 0.8,\n",
    "                       objective='binary:logistic',\n",
    "                       eval_metric='logloss',\n",
    "                       n_estimators=1000, \n",
    "                       reg_alpha = 0.3,\n",
    "                       max_depth= 3, \n",
    "                       gamma=1, \n",
    "                       max_delta_step=5)\n",
    "ml_XGB.fit(X_treinamento, y_treinamento)"
   ]
  },
  {
   "cell_type": "code",
   "execution_count": 105,
   "metadata": {},
   "outputs": [
    {
     "name": "stdout",
     "output_type": "stream",
     "text": [
      "Média das Acurácias calculadas pelo CV....: 72.8\n",
      "std médio das Acurácias calculadas pelo CV: 1.63\n",
      "Acurácias: [0.72180451 0.69172932 0.7443609  0.73684211 0.7518797  0.72932331\n",
      " 0.72180451 0.74242424 0.71969697 0.71969697]\n"
     ]
    }
   ],
   "source": [
    "# Cross-Validation com 10 folds\n",
    "a_scores_CV = cross_val_score(ml_XGB, X_treinamento, y_treinamento, cv = 10)\n",
    "print(f'Média das Acurácias calculadas pelo CV....: {100*round(a_scores_CV.mean(),4)}')\n",
    "print(f'std médio das Acurácias calculadas pelo CV: {100*round(a_scores_CV.std(),4)}')\n",
    "print(f'Acurácias: {a_scores_CV}')"
   ]
  },
  {
   "cell_type": "code",
   "execution_count": 106,
   "metadata": {},
   "outputs": [
    {
     "name": "stdout",
     "output_type": "stream",
     "text": [
      "              precision    recall  f1-score   support\n",
      "\n",
      "           0       0.50      0.16      0.25        92\n",
      "           1       0.75      0.94      0.83       240\n",
      "\n",
      "    accuracy                           0.72       332\n",
      "   macro avg       0.62      0.55      0.54       332\n",
      "weighted avg       0.68      0.72      0.67       332\n",
      "\n",
      "Acurácia de Previsão: 0.7228915662650602\n"
     ]
    }
   ],
   "source": [
    "# Medindo a acurária com os dados de teste\n",
    "# Rodando o algoritmo XGBoost com a base de Teste\n",
    "y_pred_XGB = ml_XGB.predict(X_teste)\n",
    "print(classification_report(y_teste, y_pred_XGB, target_names=['0','1']))\n",
    "print(\"Acurácia de Previsão:\", accuracy_score(y_teste, y_pred_XGB))"
   ]
  },
  {
   "cell_type": "code",
   "execution_count": 107,
   "metadata": {},
   "outputs": [
    {
     "data": {
      "image/png": "[encoded data removed]",
      "text/plain": [
       "<Figure size 288x288 with 2 Axes>"
      ]
     },
     "metadata": {
      "needs_background": "light"
     },
     "output_type": "display_data"
    }
   ],
   "source": [
    "# Gerando a matriz de confusão (XGBoost)\n",
    "cf_matrix = confusion_matrix(y_teste, y_pred_XGB)\n",
    "cf_labels = ['True_Negative', 'False_Positive', 'False_Negative', 'True_Positive']\n",
    "cf_categories = ['Zero', 'One']\n",
    "mostra_confusion_matrix(cf_matrix, group_names = cf_labels, categories = cf_categories)"
   ]
  },
  {
   "cell_type": "code",
   "execution_count": null,
   "metadata": {},
   "outputs": [],
   "source": []
  }
 ],
 "metadata": {
  "kernelspec": {
   "display_name": "Python 3",
   "language": "python",
   "name": "python3"
  },
  "language_info": {
   "codemirror_mode": {
    "name": "ipython",
    "version": 3
   },
   "file_extension": ".py",
   "mimetype": "text/x-python",
   "name": "python",
   "nbconvert_exporter": "python",
   "pygments_lexer": "ipython3",
   "version": "3.8.5"
  }
 },
 "nbformat": 4,
 "nbformat_minor": 4
}
